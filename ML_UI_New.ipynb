{
 "cells": [
  {
   "cell_type": "markdown",
   "id": "affb04eb",
   "metadata": {},
   "source": [
    "# Setup\n",
    "Run the cell below to import and install the dependencies needed for the project."
   ]
  },
  {
   "cell_type": "code",
   "execution_count": null,
   "id": "0341066c",
   "metadata": {
    "scrolled": true
   },
   "outputs": [],
   "source": [
    "# Functions to use along widgets\n",
    "from IPython.display import HTML, display, Markdown, Video, clear_output\n",
    "from ipywidgets import Layout\n",
    "# Faciliate file selection\n",
    "from tkinter import *\n",
    "from tkinter import filedialog\n",
    "# Widget Packages\n",
    "import ipywidgets as widgets\n",
    "# jupyter nbextension enable --py widgetsnbextension\n",
    "# Used for local directory\n",
    "import os\n",
    "import sys\n",
    "# import TSU.json_util as json_util\n",
    "# from TSU.json_util import test_train_json\n",
    "\n",
    "from IPython.display import HTML\n",
    "\n",
    "HTML('''<script>\n",
    "code_show=true; \n",
    "function code_toggle() {\n",
    " if (code_show){\n",
    " $('div.input').hide();\n",
    " } else {\n",
    " $('div.input').show();\n",
    " }\n",
    " code_show = !code_show\n",
    "} \n",
    "$( document ).ready(code_toggle);\n",
    "</script>\n",
    "<form action=\"javascript:code_toggle()\"><input type=\"submit\" value=\"Show/hide code\"></form>''')"
   ]
  },
  {
   "cell_type": "markdown",
   "id": "b7d4e8e9",
   "metadata": {},
   "source": [
    "# Welcome to the HOI Interactive Notebook Tool \n",
    "\n",
    "### Quick-Start:\n",
    "- Refer to the instructions and documentation provided in the Markdown cells of each of the sections below to better understand the functions of each feature.\n",
    "\n",
    "### Pre-Requisites:\n",
    "- "
   ]
  },
  {
   "cell_type": "markdown",
   "id": "6c1a97ca",
   "metadata": {},
   "source": [
    "## 1. Initialisation\n",
    "Check if your device has a [CUDA-supported GPU](https://developer.nvidia.com/cuda-gpus#compute)."
   ]
  },
  {
   "cell_type": "code",
   "execution_count": null,
   "id": "357f5f62",
   "metadata": {},
   "outputs": [],
   "source": [
    "# layout init.\n",
    "btn_layout = widgets.Layout(width='45%', height='40px')\n",
    "btn_sm_layout = widgets.Layout(width='20%', height='40px') \n",
    "label_layout = Layout(width='200px',height='auto')\n",
    "ddl_layout = widgets.Layout(width='45%', height= 'auto')\n",
    "\n",
    "\n",
    "# Widget\n",
    "btn_check_if_cuda = widgets.Button(description=\"Check if your device is CUDA supported\",\n",
    "    layout = btn_layout, button_style='info')\n",
    "\n",
    "def check_if_cuda(b):\n",
    "    # --- write script here to check if user's machine if cuda supported\n",
    "    return True\n",
    "\n",
    "btn_check_if_cuda.on_click(check_if_cuda)\n",
    "\n",
    "# Display\n",
    "display(btn_check_if_cuda)"
   ]
  },
  {
   "cell_type": "markdown",
   "id": "b5f8a73d",
   "metadata": {},
   "source": [
    "## 2. Select Pipeline\n",
    "The following Machine Learning (ML) pipelines have been integrated with this project to allow you to have a hand at Activity Detection with ease. Click on any of the following links to learn more about their source repositiories if you're interested.\n",
    "- [Toyota Smarthome (TSU)](https://project.inria.fr/toyotasmarthome/)\n",
    "- [NVIDIA STEP)](https://github.com/NVlabs/STEP/)"
   ]
  },
  {
   "cell_type": "code",
   "execution_count": null,
   "id": "a61bb909",
   "metadata": {},
   "outputs": [],
   "source": [
    "# Pre-requisites\n",
    "\"\"\"\n",
    "List of Machine Learning stuff\n",
    "Consider making it a text file to store/edit?\n",
    "\"\"\"\n",
    "ml_list = ['Toyota Smart Home', 'Nvidia STEP']\n",
    "\n",
    "# Widgets\n",
    "btn_select_pipeline = widgets.Button(description=\"Confirm\",\n",
    "    layout = btn_layout, button_style='info')\n",
    "\n",
    "ddl_pipeline = widgets.Dropdown(\n",
    "    options=ml_list,\n",
    "    value=ml_list[0],layout = btn_layout,\n",
    "    description='Select ML Pipeline:', style={'description_width': 'initial'})\n",
    "\n",
    "# Output\n",
    "widgetset = widgets.Output()\n",
    "\n",
    "# Function\n",
    "def selectWidgetSet(b):\n",
    "    with widgetset:\n",
    "        widgetset.clear_output()\n",
    "        print(menu.value + \" is selected as the pipeline.\")\n",
    "\n",
    "btn_select_pipeline.on_click(selectWidgetSet)\n",
    "\n",
    "# Display\n",
    "tooltip = widgets.Label(\"Supported Video Types: MP4, WebM, and OGG.\")\n",
    "mlBox = widgets.VBox([ddl_pipeline,btn_select_pipeline,widgetset])\n",
    "mlBox"
   ]
  },
  {
   "cell_type": "markdown",
   "id": "e3c45de7",
   "metadata": {},
   "source": [
    "## 3. Data Exploration\n",
    "Select and view playback of any video from the `data` folder. "
   ]
  },
  {
   "cell_type": "code",
   "execution_count": null,
   "id": "bc57cd30",
   "metadata": {},
   "outputs": [],
   "source": [
    "# Logic\n",
    "def populateList(fileDirectory, fileType):\n",
    "    folder_files = os.listdir(fileDirectory) #You can also use full path.\n",
    "    print(\"`data/rgbVideos` directory contains {len_folder} file(s).\".format(len_folder=len(folder_files)))\n",
    "    fileList = []\n",
    "    for file in folder_files:\n",
    "        if file.endswith(fileType):\n",
    "            fileList.append(file)\n",
    "    return fileList\n",
    "\n",
    "fileList = populateList('data/rgbVideos', \".mp4\")\n",
    "        \n",
    "# Widget\n",
    "label_data_files= widgets.Label(\"Select Video(s):\", layout = label_layout)\n",
    "ddl_data_selected = widgets.Dropdown(\n",
    "    options = fileList,\n",
    "    value= fileList[0],\n",
    "    layout = ddl_layout)\n",
    "\n",
    "btn_video = widgets.Button(\n",
    "    description='Play video', layout = btn_sm_layout, button_style='info'\n",
    ")\n",
    "\n",
    "btn_clear = widgets.Button(\n",
    "    description='Clear Playback', layout = btn_sm_layout\n",
    ")\n",
    "\n",
    "# Display output\n",
    "video_output = widgets.Output()\n",
    "def explore_video(b):\n",
    "    with video_output:\n",
    "        # Create Video File\n",
    "        video_output.clear_output()\n",
    "        html_video_code = '<video width=\"80%\" height=\"80%\" controls><source src=\"./data/rgbVideos/{fileName}\" type=\"video/mp4\"></video>'.format(fileName = ddl_data_selected.value)\n",
    "        video_output.append_display_data(HTML(html_video_code))\n",
    "\n",
    "btn_video.on_click(explore_video)\n",
    "\n",
    "# CLear output\n",
    "def clear_video(b):\n",
    "    with video_output:\n",
    "        video_output.clear_output()\n",
    "        \n",
    "btn_clear.on_click(clear_video)\n",
    "\n",
    "# Display\n",
    "data_box = widgets.VBox([widgets.HBox([label_data_files, ddl_data_selected])])\n",
    "data_btn_box = widgets.VBox([widgets.HBox([btn_clear, btn_video]),video_output])\n",
    "\n",
    "display(data_box)\n",
    "display(data_btn_box)\n",
    "\n"
   ]
  },
  {
   "cell_type": "markdown",
   "id": "3163bb07",
   "metadata": {},
   "source": [
    "## 4. Feature Extraction\n",
    "//// INSERT DESCRIPTION HERE //////\n",
    "\n",
    "### Parameters:\n",
    "- Folder & File\n",
    "    - Locate the directory where your videos are stored for feature extraction\n",
    "    - Select one one or more videos\n",
    "- Stream Type\n",
    "    - Select between `null, rgb, flow` stream types"
   ]
  },
  {
   "cell_type": "code",
   "execution_count": null,
   "id": "1b6c89a3",
   "metadata": {},
   "outputs": [],
   "source": [
    "# Widgets\n",
    "label_video_folder = widgets.Label(\"Select Folder:\", layout = label_layout)\n",
    "ddl_video_folder = widgets.Dropdown(\n",
    "    options=['list', 'of', 'folders'],\n",
    "    layout = btn_layout)\n",
    "\n",
    "label_feature_files= widgets.Label(\"Select Video(s):\", layout = label_layout)\n",
    "ddl_feature_files = widgets.SelectMultiple(\n",
    "    options=['List', 'Of', 'Videos', 'Should', 'Be', 'Populated', 'Here'],\n",
    "    layout = ddl_layout)\n",
    "\n",
    "label_stream = widgets.Label(\"Select Stream:\", layout = label_layout)\n",
    "ddl_stream = widgets.Select(\n",
    "    options=['null', 'rgb', 'flow'],\n",
    "    value='null',\n",
    "    layout = ddl_layout)\n",
    "\n",
    "btn_extract = widgets.Button(description=\"Extract Features\", layout = btn_layout, button_style='info')\n",
    "\n",
    "# Display\n",
    "feature_box = widgets.VBox([widgets.HBox([label_video_folder, ddl_video_folder]),\n",
    "                     widgets.HBox([label_feature_files, ddl_feature_files]),\n",
    "                     widgets.HBox([label_stream, ddl_stream]), btn_extract])\n",
    "feature_box\n",
    "    "
   ]
  },
  {
   "cell_type": "markdown",
   "id": "8bb21969",
   "metadata": {},
   "source": [
    "## 5. Inference\n",
    "//// INSERT DESCRIPTION HERE //////\n",
    "\n",
    "### Parameters:\n",
    "- Model \n",
    "  - Select from one of the pre-trained ML models\n",
    "- Input Video \n",
    "  - Select an input video from the `/data/rgbVideos` directory"
   ]
  },
  {
   "cell_type": "code",
   "execution_count": null,
   "id": "95fc71e6",
   "metadata": {},
   "outputs": [],
   "source": [
    "# Logic\n",
    "model_dir = './TSU/models/'\n",
    "# listdir() returns a list containing the names of the entries in the directory given by path.\n",
    "modelList = os.listdir(\"./TSU/models\")\n",
    "\n",
    "import os\n",
    "\n",
    "## retrieve all TSU videos to dropdown list\n",
    "folder_files = os.listdir('data/rgbVideos') \n",
    "print(\"data/rgbVideos` directory contains {len_folder} file(s).\".format(len_folder=len(folder_files)))\n",
    "fileList=[]\n",
    "for file in folder_files:\n",
    "    fileList.append(file)\n",
    "\n",
    "# Widgets\n",
    "label_inference_model = widgets.Label(\"Select from Pre-Trained Models:\", layout = label_layout)\n",
    "ddl_inference_model = widgets.Dropdown(\n",
    "    options = modelList,\n",
    "    value = modelList[0],\n",
    "    layout = btn_layout)\n",
    "\n",
    "label_inference_video = widgets.Label(\"Select Input Video:\", layout = label_layout)\n",
    "selected_input_video = widgets.Dropdown(\n",
    "    options = fileList,\n",
    "    value= fileList[0],\n",
    "    layout = btn_layout)\n",
    "\n",
    "btn_inference = widgets.Button(description=\"Run Inferencing\", layout = btn_layout, button_style='info')\n",
    "\n",
    "# Display\n",
    "inference_box = widgets.VBox([widgets.HBox([label_inference_model, ddl_inference_model]),\n",
    "                     widgets.HBox([label_inference_video, selected_input_video])])\n",
    "\n",
    "display(inference_box)\n",
    "display(btn_inference)        \n",
    "    "
   ]
  },
  {
   "cell_type": "markdown",
   "id": "f388e2a0",
   "metadata": {},
   "source": [
    "## 5. Training\n",
    "//// INSERT DESCRIPTION HERE //////\n",
    "\n",
    "### Select dataset:\n",
    "- Select a dataset from the `data` folder for input for the training & testing functionalities."
   ]
  },
  {
   "cell_type": "code",
   "execution_count": null,
   "id": "d4125870",
   "metadata": {},
   "outputs": [],
   "source": []
  },
  {
   "cell_type": "markdown",
   "id": "7b0bcb74",
   "metadata": {},
   "source": [
    "### Initialise Training\n",
    "  - Video Type\n",
    "  - Model Name\n",
    "  - Batch_Size\n",
    "  - Epoch\n",
    "  - Kernel"
   ]
  },
  {
   "cell_type": "code",
   "execution_count": null,
   "id": "cda6e2e7",
   "metadata": {},
   "outputs": [],
   "source": []
  },
  {
   "cell_type": "code",
   "execution_count": null,
   "id": "4d7460d6",
   "metadata": {},
   "outputs": [],
   "source": []
  },
  {
   "cell_type": "code",
   "execution_count": null,
   "id": "f104d145",
   "metadata": {},
   "outputs": [],
   "source": []
  },
  {
   "cell_type": "code",
   "execution_count": null,
   "id": "061569b6",
   "metadata": {},
   "outputs": [],
   "source": []
  }
 ],
 "metadata": {
  "kernelspec": {
   "display_name": "Python 3 (ipykernel)",
   "language": "python",
   "name": "python3"
  },
  "language_info": {
   "codemirror_mode": {
    "name": "ipython",
    "version": 3
   },
   "file_extension": ".py",
   "mimetype": "text/x-python",
   "name": "python",
   "nbconvert_exporter": "python",
   "pygments_lexer": "ipython3",
   "version": "3.8.13"
  }
 },
 "nbformat": 4,
 "nbformat_minor": 5
}
