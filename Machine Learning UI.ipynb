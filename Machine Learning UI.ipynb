{
 "cells": [
  {
   "cell_type": "markdown",
   "metadata": {
    "pycharm": {
     "name": "#%% md\n"
    }
   },
   "source": [
    "# Machine Learning with ToyotaHome/NVIDIA"
   ]
  },
  {
   "cell_type": "markdown",
   "metadata": {
    "pycharm": {
     "name": "#%% md\n"
    }
   },
   "source": [
    "## READ ME:\n",
    "Run all cells in ascending order"
   ]
  },
  {
   "cell_type": "markdown",
   "metadata": {
    "pycharm": {
     "name": "#%% md\n"
    }
   },
   "source": [
    "### Setup/Imports"
   ]
  },
  {
   "cell_type": "code",
   "execution_count": null,
   "metadata": {
    "pycharm": {
     "name": "#%%\n"
    }
   },
   "outputs": [],
   "source": [
    "# Functions to use along widgets\n",
    "from IPython.display import HTML, display, Markdown, Video, clear_output\n",
    "# Faciliate file selection\n",
    "from tkinter import *\n",
    "from tkinter import filedialog\n",
    "# Widget Packages\n",
    "import ipywidgets as widgets\n",
    "# jupyter nbextension enable --py widgetsnbextension\n",
    "# Used for local directory\n",
    "import os\n",
    "import sys"
   ]
  },
  {
   "cell_type": "markdown",
   "metadata": {
    "pycharm": {
     "name": "#%% md\n"
    }
   },
   "source": [
    "### Video Selector Functionality"
   ]
  },
  {
   "cell_type": "code",
   "execution_count": null,
   "metadata": {
    "pycharm": {
     "name": "#%%\n"
    }
   },
   "outputs": [],
   "source": [
    "path = os.getcwd() # print(os.path.basename(path)) # get the local directory\n",
    "videoSelector = widgets.Button(description = \"Select Video Preview\")\n",
    "videoClearer = widgets.Button(description = \"Clear Video Preview\")\n",
    "\n",
    "#Create the videoplayer here\n",
    "video_output = widgets.Output() # Customisation\n",
    "\n",
    "def video_Select(b):\n",
    "    root = Tk()\n",
    "    root.filename =  filedialog.askopenfilename(\n",
    "        initialdir = path,title = \"Select file\",filetypes = ((\"videos\",\"*.mp4\"),(\"all files\",\"*.*\")))\n",
    "    FileName = os.path.basename(root.filename)\n",
    "    # Get directory path\n",
    "    cwd = os.getcwd()\n",
    "    # Get file path\n",
    "    AbsoluteFilePath = os.path.normpath(root.filename)\n",
    "    # Replace file path's directory nonsense with the relative command\n",
    "    FilePath = AbsoluteFilePath.replace(cwd,\".\")\n",
    "    root.destroy() #Closes the Window\n",
    "    with video_output:\n",
    "        # Create Video File\n",
    "        video_output.clear_output()\n",
    "        html_video_code = '<video width=\"100%\" height=\"100%\" controls><source src=\"{filepath}\" type=\"video/mp4\"></video>'.format(filepath = FilePath)\n",
    "        video_output.append_display_data(HTML(html_video_code))\n",
    "\n",
    "def video_Clear(b):\n",
    "    with video_output:\n",
    "        video_output.clear_output()\n",
    "\n",
    "#Link the button to the function\n",
    "videoSelector.on_click(video_Select)\n",
    "videoClearer.on_click(video_Clear)"
   ]
  },
  {
   "cell_type": "markdown",
   "metadata": {
    "pycharm": {
     "name": "#%% md\n"
    }
   },
   "source": [
    "### Shared Widgets"
   ]
  },
  {
   "cell_type": "code",
   "execution_count": null,
   "metadata": {
    "pycharm": {
     "name": "#%%\n"
    }
   },
   "outputs": [],
   "source": [
    "selected_Directory = widgets.Text(\n",
    "    description = 'Directory',\n",
    "    value = '',\n",
    "    placeholder = 'Select Directory'\n",
    "    )\n",
    "current_Directory = widgets.Label()\n",
    "tooltip_Dir = widgets.Label(\"Current Directory: \")\n",
    "selectDir = widgets.Button(description = \"Select Directory\")\n",
    "clearDir = widgets.Button(description = \"Clear\")\n",
    "confirmDir = widgets.Button(description = \"Confirm\")\n",
    "\n",
    "sharedWidgets = widgets.VBox([widgets.HBox([tooltip_Dir,current_Directory]),widgets.HBox([selectDir, confirmDir, clearDir])])\n",
    "\n",
    "def directory_Select(b):\n",
    "    root = Tk()\n",
    "    root.directory =  filedialog.askdirectory (\n",
    "        initialdir = path)\n",
    "    selected_Directory.value = root.directory\n",
    "    root.destroy() #Closes the Window\\n\",\n",
    "\n",
    "def directory_Clear(b):\n",
    "    current_Directory.value = \"\"\n",
    "\n",
    "def directory_Print(b):\n",
    "    current_Directory.value = selected_Directory.value\n",
    "selectDir.on_click(directory_Select)\n",
    "clearDir.on_click(directory_Clear)\n",
    "confirmDir.on_click(directory_Print)"
   ]
  },
  {
   "cell_type": "markdown",
   "metadata": {
    "pycharm": {
     "name": "#%% md\n"
    }
   },
   "source": [
    "###  Toyota Widgets\n",
    "These are the widgets required to run Toyota ML"
   ]
  },
  {
   "cell_type": "code",
   "execution_count": null,
   "metadata": {
    "pycharm": {
     "name": "#%%\n"
    }
   },
   "outputs": [],
   "source": [
    "Toyota = widgets.IntSlider(description = \"Toyo\")"
   ]
  },
  {
   "cell_type": "markdown",
   "metadata": {
    "pycharm": {
     "name": "#%% md\n"
    }
   },
   "source": [
    "### NVIDIA Widgets\n",
    "These are the widgets required to run NVIDIA ML"
   ]
  },
  {
   "cell_type": "code",
   "execution_count": null,
   "metadata": {
    "pycharm": {
     "name": "#%%\n"
    }
   },
   "outputs": [],
   "source": [
    "Nvidia = widgets.IntSlider(description = \"Nvidia\")"
   ]
  },
  {
   "cell_type": "code",
   "execution_count": null,
   "metadata": {
    "pycharm": {
     "name": "#%%\n"
    }
   },
   "outputs": [],
   "source": [
    "# Pre-requisites\n",
    "\"\"\"\n",
    "List of Machine Learning stuff\n",
    "Consider making it a text file to store/edit?\n",
    "\"\"\"\n",
    "ml_list = ['ToyotaHome', 'Nvidia']\n",
    "\n",
    "# Widgets\n",
    "mlSelectConfirm = widgets.Button(description=\"Confirm\")\n",
    "menu = widgets.Dropdown(\n",
    "    options=ml_list,\n",
    "    value=ml_list[0],\n",
    "    description='ML Model:')\n",
    "\n",
    "# Output\n",
    "widgetset = widgets.Output()\n",
    "\n",
    "# Function\n",
    "def selectWidgetSet(b):\n",
    "    with widgetset:\n",
    "        widgetset.clear_output()\n",
    "        if(menu.value == ml_list[0]): # if Toyota\n",
    "            display(Toyota, sharedWidgets)\n",
    "        elif(menu.value == ml_list[1]): # if Nvidia\n",
    "            display(Nvidia, sharedWidgets)\n",
    "\n",
    "\n",
    "mlSelectConfirm.on_click(selectWidgetSet)"
   ]
  },
  {
   "cell_type": "markdown",
   "metadata": {
    "pycharm": {
     "name": "#%% md\n"
    }
   },
   "source": [
    "### Other iPywidgets"
   ]
  },
  {
   "cell_type": "markdown",
   "metadata": {
    "pycharm": {
     "name": "#%% md\n"
    }
   },
   "source": [
    "#### Relevant links (in case I forget)\n",
    "Output Widget\n",
    "https://ipywidgets.readthedocs.io/en/latest/examples/Output%20Widget.html\n",
    "<br>Widget List\n",
    "https://ipywidgets.readthedocs.io/en/latest/examples/Widget%20List.html\n",
    "<br>Linking Widgets\n",
    "https://ipywidgets.readthedocs.io/en/7.6.2/examples/Widget%20Events.html\n",
    "<br>Clear Output\n",
    "https://stackoverflow.com/questions/54029719/jupyter-ipywidgets-how-to-clear-cell-output-before-re-printing-the-output\n",
    "<br>Video Playback\n",
    "https://towardsdatascience.com/video-streaming-in-the-jupyter-notebook-635bc5809e85\n",
    "\n",
    "##### Markdown Syntax\n",
    "https://www.markdownguide.org/basic-syntax"
   ]
  },
  {
   "cell_type": "code",
   "execution_count": null,
   "metadata": {
    "pycharm": {
     "name": "#%%\n"
    },
    "scrolled": true
   },
   "outputs": [],
   "source": [
    "title = widgets.Label(\"Control Panel\")\n",
    "tooltip = widgets.Label(\"Supported Video Types: MP4, WebM, and OGG.\")\n",
    "\n",
    "mlBox = widgets.VBox([widgets.HBox([menu, mlSelectConfirm]),widgetset])\n",
    "videoBox = widgets.VBox([widgets.HBox([videoSelector, videoClearer, tooltip]),video_output])\n",
    "toolBox = widgets.VBox([title,mlBox,videoBox])\n",
    "\n",
    "toolBox\n",
    "\n",
    "### ML Widget Selector Functionality"
   ]
  },
  {
   "cell_type": "markdown",
   "metadata": {},
   "source": [
    "# 1. Data Exploration"
   ]
  },
  {
   "cell_type": "markdown",
   "metadata": {},
   "source": [
    "## 1.1 Select a video to playback"
   ]
  },
  {
   "cell_type": "code",
   "execution_count": null,
   "metadata": {},
   "outputs": [],
   "source": [
    "# @hidden_cell\n",
    "## retrieve all videos to dropdown list\n",
    "\n",
    "def populateList(fileDirectory):\n",
    "    folder_files = os.listdir(fileDirectory) #You can also use full path.\n",
    "    print(\"This Folder contains {len_folder} file(s).\".format(len_folder=len(folder_files)))\n",
    "    fileList = []\n",
    "    for file in folder_files:\n",
    "        fileList.append(file)\n",
    "    return fileList\n",
    "\n",
    "fileList = populateList('data/rgbVideos')\n",
    "        \n",
    "## dropdown list to select video to play\n",
    "videoSelected = widgets.Dropdown(\n",
    "    options = fileList,\n",
    "    value= fileList[0],\n",
    "    description=\"Video: \",\n",
    "    disabled=False,\n",
    ")\n",
    "display(videoSelected)\n",
    "#https://ipywidgets.readthedocs.io/en/stable/examples/Widget%20List.html#Button\n",
    "videoButton = widgets.Button(\n",
    "    description='Play video'\n",
    ")\n",
    "video_output = widgets.Output()\n",
    "def explore_video(b):\n",
    "    with video_output:\n",
    "        # Create Video File\n",
    "        video_output.clear_output()\n",
    "        html_video_code = '<video width=\"80%\" height=\"80%\" controls><source src=\"./data/rgbVideos/{fileName}\" type=\"video/mp4\"></video>'.format(fileName = videoSelected.value)\n",
    "        video_output.append_display_data(HTML(html_video_code))\n",
    "\n",
    "\n",
    "videoButton.on_click(explore_video)\n",
    "\n",
    "clearButton = widgets.Button(\n",
    "    description='Clear Playback'\n",
    ")\n",
    "\n",
    "def clear_video(b):\n",
    "    with video_output:\n",
    "        video_output.clear_output()\n",
    "        \n",
    "# display(clearButton)\n",
    "clearButton.on_click(clear_video)\n",
    "\n",
    "## to align the buttons to 1 row\n",
    "display(clearButton)\n",
    "display(videoButton, video_output)"
   ]
  },
  {
   "cell_type": "markdown",
   "metadata": {},
   "source": [
    "# 2. Inference Section"
   ]
  },
  {
   "cell_type": "markdown",
   "metadata": {},
   "source": [
    "## Load a pretrained model"
   ]
  },
  {
   "cell_type": "code",
   "execution_count": null,
   "metadata": {},
   "outputs": [],
   "source": [
    "model_dir = './TSU/models/'\n",
    "# listdir() returns a list containing the names of the entries in the directory given by path.\n",
    "modelList = os.listdir(\"./TSU/models\")\n",
    "\n",
    "selectModel = widgets.Dropdown(\n",
    "    options = modelList,\n",
    "    value = modelList[0],\n",
    "    description = \"Choose a pre-trained model\",\n",
    "    disabled= False\n",
    ")\n",
    "\n",
    "selectModel\n",
    "# print(selectModel.value)"
   ]
  },
  {
   "cell_type": "markdown",
   "metadata": {},
   "source": [
    "## Choose an input video from the TSU project"
   ]
  },
  {
   "cell_type": "code",
   "execution_count": null,
   "metadata": {},
   "outputs": [],
   "source": [
    "import os\n",
    "\n",
    "## retrieve all TSU videos to dropdown list\n",
    "folder_files = os.listdir('data/rgbVideos') \n",
    "print(\"This Folder contains {len_folder} file(s).\".format(len_folder=len(folder_files)))\n",
    "fileList=[]\n",
    "for file in folder_files:\n",
    "    fileList.append(file)\n",
    "\n",
    "selected_input_video = widgets.Dropdown(\n",
    "    options = fileList,\n",
    "    value= fileList[0],\n",
    "    description=\"Video: \",\n",
    "    disabled=False,\n",
    ")\n",
    "display(selected_input_video)\n",
    "\n",
    "select_button = widgets.Button(\n",
    "    description='Select video'\n",
    ")\n",
    "display(select_button)\n",
    "\n",
    "\n",
    "# dropdown selected value --> selected_input_video.value\n",
    "# def get_selected_value(b):\n",
    "#     print(selected_input_video.value)\n",
    "# select_button.on_click(get_selected_value)"
   ]
  },
  {
   "cell_type": "markdown",
   "metadata": {},
   "source": [
    "## Inference Results"
   ]
  },
  {
   "cell_type": "code",
   "execution_count": null,
   "outputs": [],
   "source": [
    "##Install dependencies\n",
    "\n",
    "!pip install -r requirements_forTSU.txt"
   ],
   "metadata": {
    "collapsed": false,
    "pycharm": {
     "name": "#%%\n"
    }
   }
  },
  {
   "cell_type": "code",
   "execution_count": null,
   "outputs": [],
   "source": [
    "#see inference results in the form of output video with captions indicating detected activity in each video frame\n",
    "\n",
    "pretrainModel = selectModel.value\n",
    "videoName = selected_input_video.value\n",
    "dir = \"./TSU/models\"+pretrainModel\n",
    "\n",
    "%run ./TSU/test.py -load_model dir\n",
    "#%run ./TSU/test.py -load_model ./TSU/models/PDAN_TSU_RGB\n"
   ],
   "metadata": {
    "collapsed": false,
    "pycharm": {
     "name": "#%%\n"
    }
   }
  },
  {
   "cell_type": "code",
   "execution_count": null,
   "metadata": {},
   "outputs": [],
   "source": [
    "## display video with captions"
   ]
  },
  {
   "cell_type": "markdown",
   "metadata": {},
   "source": [
    "# 3. Training Section"
   ]
  },
  {
   "cell_type": "markdown",
   "metadata": {},
   "source": [
    "## Choose a dataset or upload your own"
   ]
  },
  {
   "cell_type": "code",
   "execution_count": null,
   "metadata": {},
   "outputs": [],
   "source": [
    "# upload own dataset from computer\n",
    "def upload_dataset(file_val):\n",
    "    if not file_val:\n",
    "        print (\"No file uploaded\")\n",
    "\n",
    "    else:   \n",
    "        clear_output(wait=True)\n",
    "        uploaded_filename = next(iter(file_val))\n",
    "        content = file_val[uploaded_filename]['content']\n",
    "        print(\"File name: \" + uploaded_filename)\n",
    "\n",
    "        try:\n",
    "            with open(uploaded_filename, 'wb') as f: f.write(content)\n",
    "            print (uploaded_filename + \" uploaded to kernel successfully!\")\n",
    "            \n",
    "            uploaded_filename = \"\"\n",
    "            content = \"\"\n",
    "        except:\n",
    "            print (sys.exc_info())\n",
    "\n",
    "def show_upload(b):\n",
    "    label_3 = widgets.Label(\"Upload your own dataset file below:\")\n",
    "\n",
    "    clear_output(wait=True)\n",
    "    uploader = widgets.FileUpload(accept='.zip',  # Currently only accepts .zip but can be set .json or whatever\n",
    "                                  multiple=False,\n",
    "                                  description = \"Browse\",\n",
    "                                  _counter = 0\n",
    "    )\n",
    "    upload_button = widgets.Button(\n",
    "        description='Upload dataset',\n",
    "        disabled = False\n",
    "    )\n",
    "    \n",
    "    def on_button_clicked(b):\n",
    "        upload_dataset(uploader.value)\n",
    "        \n",
    "    upload_button.on_click(on_button_clicked)\n",
    "    display(label_3, uploader, upload_button)            \n",
    "            \n",
    "# select from pre-existing list of datasets (under ./datasets directory)\n",
    "datasetList = populateList(\"./data/dataset\") ## directory to be changed dependending how josh saves it as \n",
    "selectedDataset = widgets.Dropdown(\n",
    "    options = datasetList,\n",
    "    value= datasetList[0],\n",
    "    description=\"Dataset: \",\n",
    "    disabled=False,\n",
    ")\n",
    "\n",
    "label_1 = widgets.Label(\"Select a pre-existing dataset\")\n",
    "label_2 = widgets.Label(\"or upload your own\")\n",
    "\n",
    "selectown_button = widgets.Button(\n",
    "    description='Select own',\n",
    "    disabled = False\n",
    ")\n",
    "selectown_button.on_click(show_upload)\n",
    "\n",
    "# ui formatting\n",
    "existingBox = widgets.VBox([label_1, selectedDataset])\n",
    "newBox = widgets.VBox([label_2, selectown_button])\n",
    "selectBox = widgets.HBox([existingBox, newBox])\n",
    "display(selectBox)\n"
   ]
  },
  {
   "cell_type": "markdown",
   "metadata": {},
   "source": [
    "## initialize model"
   ]
  },
  {
   "cell_type": "code",
   "execution_count": null,
   "metadata": {},
   "outputs": [],
   "source": [
    "# initialize model with a network architecture configured in a separate .py file\n",
    "#\"code here...\"\n"
   ]
  },
  {
   "cell_type": "markdown",
   "metadata": {},
   "source": [
    "## Set model"
   ]
  },
  {
   "cell_type": "code",
   "execution_count": null,
   "metadata": {},
   "outputs": [],
   "source": [
    "# Specify a name for this new model using appropriate UI elements.\n",
    "model_name = widgets.Text(\n",
    "    placeholder='Type something..',\n",
    "    description='Model name:',\n",
    "    disabled=False\n",
    ")\n",
    "\n",
    "confirm_button = widgets.Button(\n",
    "    description='Confirm',\n",
    "    disabled = False\n",
    ")\n",
    "\n",
    "def on_button_clicked(b):\n",
    "    clear_output(wait=True)\n",
    "    print(\"Textbox value is: \"+ model_name.value)\n",
    "\n",
    "confirm_button.on_click(on_button_clicked)\n",
    "inputBox = widgets.HBox([model_name, confirm_button])\n",
    "display(inputBox)"
   ]
  },
  {
   "cell_type": "markdown",
   "metadata": {},
   "source": [
    "## Set the batch_size and epochs"
   ]
  },
  {
   "cell_type": "code",
   "execution_count": null,
   "metadata": {},
   "outputs": [],
   "source": [
    "# Set the batch_size and epochs, with appropriate UI elements, prior to running a training sequence\n",
    "# Specify a name for this new model using appropriate UI elements.\n",
    "\n",
    "\n",
    "# to re set min/max values \n",
    "batch_size = widgets.IntSlider(\n",
    "    value=7,\n",
    "    min=0,\n",
    "    max=10,\n",
    "    step=1,\n",
    "    description='Set batch size: ',\n",
    "    disabled=False,\n",
    "    continuous_update=False,\n",
    "    orientation='horizontal',\n",
    "    readout=True,\n",
    "    readout_format='d'\n",
    ")\n",
    "\n",
    "epochs = widgets.IntSlider(\n",
    "    value=7,\n",
    "    min=0,\n",
    "    max=10,\n",
    "    step=1,\n",
    "    description='Set epochs: :',\n",
    "    disabled=False,\n",
    "    continuous_update=False,\n",
    "    orientation='horizontal',\n",
    "    readout=True,\n",
    "    readout_format='d'\n",
    ")\n",
    "\n",
    "confirm_button2 = widgets.Button(\n",
    "    description='Confirm',\n",
    "    disabled = False\n",
    ")\n",
    "\n",
    "def on_button_clicked(b):\n",
    "    print(\"batch_size value is: \"+ str(batch_size.value))\n",
    "    print(\"epochs value is: \"+ str(epochs.value))\n",
    "\n",
    "confirm_button2.on_click(on_button_clicked)\n",
    "inputBox = widgets.HBox([batch_size, epochs, confirm_button2])\n",
    "display(inputBox)"
   ]
  },
  {
   "cell_type": "markdown",
   "metadata": {},
   "source": [
    "## Run the training sequence, i.e., fit the model onto the dataset"
   ]
  },
  {
   "cell_type": "code",
   "execution_count": null,
   "metadata": {},
   "outputs": [],
   "source": [
    "# Run the training sequence, i.e., fit the model onto the dataset\n",
    "split_setting = \"\"\n",
    "if \"CS\" in selectedDataset.value:\n",
    "    split_setting = \"CS\"\n",
    "elif \"CV\" in selectedDataset.value:\n",
    "    split_setting = \"CV\"\n",
    "    \n",
    "print(split_setting, batchSize.value, epoch.value, modelName.value, selectedDataset.value)\n",
    "\n",
    "## currently wont be able to run, need edit the train.py to allow new args \"model_name\" to save the model as this name\n",
    "%run ./train.py -split_setting split_setting -batch_size batchSize -epoch epoch.value -model_name modelName.value"
   ]
  },
  {
   "cell_type": "markdown",
   "metadata": {},
   "source": [
    "## Visuals for progress of training"
   ]
  },
  {
   "cell_type": "code",
   "execution_count": null,
   "metadata": {},
   "outputs": [],
   "source": [
    "# See some visual elements to indicate the progress of the training in the notebook"
   ]
  },
  {
   "cell_type": "markdown",
   "metadata": {},
   "source": [
    "## After training is complete, the trained model should be added to the list of pre-trained models that can be chosen in R3"
   ]
  },
  {
   "cell_type": "code",
   "execution_count": null,
   "metadata": {},
   "outputs": [],
   "source": [
    "# After training is complete, the trained model should be added to the list of pre-trained models that can be chosen in R3"
   ]
  },
  {
   "cell_type": "markdown",
   "metadata": {},
   "source": [
    "# 4. Testing Section"
   ]
  },
  {
   "cell_type": "markdown",
   "metadata": {},
   "source": [
    "## Choose a dataset subfolder, using appropriate UI elements, from the data folder to use for testing"
   ]
  },
  {
   "cell_type": "code",
   "execution_count": null,
   "metadata": {},
   "outputs": [],
   "source": [
    "# Choose a dataset subfolder, using appropriate UI elements, from the data folder to use for testing\n",
    "\n",
    "# replicated from section 3\n",
    "existingBox = widgets.VBox([label_1, selectedDataset])\n",
    "newBox = widgets.VBox([label_2, selectown_button])\n",
    "selectBox = widgets.HBox([existingBox, newBox])\n",
    "display(selectBox)\n"
   ]
  },
  {
   "cell_type": "markdown",
   "metadata": {},
   "source": [
    "## Load a pretrained model using an appropriate UI component"
   ]
  },
  {
   "cell_type": "code",
   "execution_count": null,
   "metadata": {},
   "outputs": [],
   "source": [
    "# Load a pretrained model using an appropriate UI component\n",
    "\n",
    "# replicated from section 2\n",
    "selectModel\n",
    "# print(selectModel.value)"
   ]
  },
  {
   "cell_type": "markdown",
   "metadata": {},
   "source": [
    "## Run the testing sequence"
   ]
  },
  {
   "cell_type": "code",
   "execution_count": null,
   "metadata": {},
   "outputs": [],
   "source": [
    "# Run the testing sequence, i.e., perform inference on each data sample and accumulate some statistics\n",
    "# (again check out the train.py file)"
   ]
  },
  {
   "cell_type": "markdown",
   "metadata": {},
   "source": [
    "## See some visual elements to indicate the progress of testing in the notebook"
   ]
  },
  {
   "cell_type": "code",
   "execution_count": null,
   "metadata": {},
   "outputs": [],
   "source": [
    "# •\tView some results \n",
    "# (e.g., Average Precision per activity class and mean Average Precision) \n",
    "# that allow for an assessment of how well the model performed"
   ]
  },
  {
   "cell_type": "markdown",
   "metadata": {},
   "source": [
    "## Save the results to a results folder in the repo"
   ]
  },
  {
   "cell_type": "code",
   "execution_count": null,
   "metadata": {},
   "outputs": [],
   "source": [
    "# Save the results to a results folder in the repo"
   ]
  },
  {
   "cell_type": "markdown",
   "metadata": {},
   "source": [
    "# 5. New Pipeline (NVIDIA STEP)"
   ]
  },
  {
   "cell_type": "code",
   "execution_count": null,
   "metadata": {},
   "outputs": [],
   "source": [
    "## STEP is just one other HOI project we suggest, but you are free to use any others. A good resource may be https://paperswithcode.com"
   ]
  }
 ],
 "metadata": {
  "kernelspec": {
   "display_name": "Python 3 (ipykernel)",
   "language": "python",
   "name": "python3"
  },
  "language_info": {
   "codemirror_mode": {
    "name": "ipython",
    "version": 3
   },
   "file_extension": ".py",
   "mimetype": "text/x-python",
   "name": "python",
   "nbconvert_exporter": "python",
   "pygments_lexer": "ipython3",
   "version": "3.9.12"
  },
  "vscode": {
   "interpreter": {
    "hash": "6a57af3429fe39f1db95ae52500f0dc20b0d5b033a19c06462446e07082bc71c"
   }
  }
 },
 "nbformat": 4,
 "nbformat_minor": 1
}