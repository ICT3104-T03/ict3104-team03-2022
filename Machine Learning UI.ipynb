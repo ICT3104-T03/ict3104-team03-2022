{
 "cells": [
  {
   "cell_type": "markdown",
   "metadata": {
    "pycharm": {
     "name": "#%% md\n"
    }
   },
   "source": [
    "# Machine Learning with ToyotaHome/NVIDIA"
   ]
  },
  {
   "cell_type": "markdown",
   "metadata": {
    "pycharm": {
     "name": "#%% md\n"
    }
   },
   "source": [
    "## READ ME:\n",
    "Run all cells after Setup/Imports before running this"
   ]
  },
  {
   "cell_type": "code",
   "execution_count": null,
   "metadata": {
    "pycharm": {
     "name": "#%%\n"
    },
    "scrolled": true
   },
   "outputs": [],
   "source": [
    "title = widgets.Label(\"Control Panel\")\n",
    "tooltip = widgets.Label(\"Supported Video Types: MP4, WebM, and OGG.\")\n",
    "\n",
    "mlBox = widgets.VBox([widgets.HBox([menu, mlSelectConfirm]),widgetset])\n",
    "videoBox = widgets.VBox([widgets.HBox([videoSelector, videoClearer, tooltip]),video_output])\n",
    "toolBox = widgets.VBox([title,mlBox,videoBox])\n",
    "\n",
    "toolBox"
   ]
  },
  {
   "cell_type": "markdown",
   "metadata": {
    "pycharm": {
     "name": "#%% md\n"
    }
   },
   "source": [
    "### Setup/Imports"
   ]
  },
  {
   "cell_type": "code",
   "execution_count": null,
   "metadata": {
    "pycharm": {
     "name": "#%%\n"
    }
   },
   "outputs": [],
   "source": [
    "# Functions to use along widgets\n",
    "from IPython.display import HTML, display, Markdown, Video\n",
    "# Faciliate file selection\n",
    "from tkinter import *\n",
    "from tkinter import filedialog\n",
    "# Widget Packages\n",
    "import ipywidgets as widgets\n",
    "# jupyter nbextension enable --py widgetsnbextension\n",
    "# Used for local directory\n",
    "import os"
   ]
  },
  {
   "cell_type": "markdown",
   "metadata": {
    "pycharm": {
     "name": "#%% md\n"
    }
   },
   "source": [
    "### Video Selector Functionality"
   ]
  },
  {
   "cell_type": "code",
   "execution_count": null,
   "metadata": {
    "pycharm": {
     "name": "#%%\n"
    }
   },
   "outputs": [],
   "source": [
    "path = os.getcwd() # print(os.path.basename(path)) # get the local directory\n",
    "videoSelector = widgets.Button(description = \"Select Video Preview\")\n",
    "videoClearer = widgets.Button(description = \"Clear Video Preview\")\n",
    "\n",
    "#Create the videoplayer here\n",
    "video_output = widgets.Output() # Customisation\n",
    "\n",
    "def video_Select(b):\n",
    "    root = Tk()\n",
    "    root.filename =  filedialog.askopenfilename(\n",
    "        initialdir = path,title = \"Select file\",filetypes = ((\"jpeg files\",\"*.jpg\"),(\"all files\",\"*.*\")))\n",
    "    FileName = os.path.basename(root.filename)\n",
    "    # Get directory path\n",
    "    cwd = os.getcwd()\n",
    "    # Get file path\n",
    "    AbsoluteFilePath = os.path.normpath(root.filename)\n",
    "    # Replace file path's directory nonsense with the relative command\n",
    "    FilePath = AbsoluteFilePath.replace(cwd,\".\")\n",
    "    root.destroy() #Closes the Window\n",
    "    with video_output:\n",
    "        # Create Video File\n",
    "        video_output.clear_output()\n",
    "        html_video_code = '<video width=\"100%\" height=\"100%\" controls><source src=\"{filepath}\" type=\"video/mp4\"></video>'.format(filepath = FilePath)\n",
    "        video_output.append_display_data(HTML(html_video_code))\n",
    "\n",
    "def video_Clear(b):\n",
    "    with video_output:\n",
    "        video_output.clear_output()\n",
    "\n",
    "#Link the button to the function\n",
    "videoSelector.on_click(video_Select)\n",
    "videoClearer.on_click(video_Clear)"
   ]
  },
  {
   "cell_type": "markdown",
   "metadata": {
    "pycharm": {
     "name": "#%% md\n"
    }
   },
   "source": [
    "   ### Shared Widgets"
   ]
  },
  {
   "cell_type": "code",
   "execution_count": null,
   "metadata": {
    "pycharm": {
     "name": "#%%\n"
    }
   },
   "outputs": [],
   "source": [
    "selected_Directory = widgets.Text(\n",
    "    description = 'Directory',\n",
    "    value = '',\n",
    "    placeholder = 'Select Directory'\n",
    "    )\n",
    "current_Directory = widgets.Label()\n",
    "tooltip_Dir = widgets.Label(\"Current Directory: \")\n",
    "selectDir = widgets.Button(description = \"Select Directory\")\n",
    "clearDir = widgets.Button(description = \"Clear\")\n",
    "confirmDir = widgets.Button(description = \"Confirm\")\n",
    "\n",
    "sharedWidgets = widgets.VBox([widgets.HBox([tooltip_Dir,current_Directory]),widgets.HBox([selectDir, confirmDir, clearDir])])\n",
    "\n",
    "def directory_Select(b):\n",
    "    root = Tk()\n",
    "    root.directory =  filedialog.askdirectory (\n",
    "        initialdir = path)\n",
    "    selected_Directory.value = root.directory\n",
    "    root.destroy() #Closes the Window\\n\",\n",
    "\n",
    "def directory_Clear(b):\n",
    "    current_Directory.value = \"\"\n",
    "\n",
    "def directory_Print(b):\n",
    "    current_Directory.value = selected_Directory.value\n",
    "\n",
    "selectDir.on_click(directory_Select)\n",
    "clearDir.on_click(directory_Clear)\n",
    "confirmDir.on_click(directory_Print)"
   ]
  },
  {
   "cell_type": "markdown",
   "metadata": {
    "pycharm": {
     "name": "#%% md\n"
    }
   },
   "source": [
    "##  Toyota Widgets\n",
    "These are the widgets required to run Toyota ML"
   ]
  },
  {
   "cell_type": "code",
   "execution_count": null,
   "metadata": {
    "pycharm": {
     "name": "#%%\n"
    }
   },
   "outputs": [],
   "source": [
    "Toyota = widgets.IntSlider(description = \"Toyo\")"
   ]
  },
  {
   "cell_type": "markdown",
   "metadata": {
    "pycharm": {
     "name": "#%% md\n"
    }
   },
   "source": [
    "## NVIDIA Widgets\n",
    "These are the widgets required to run NVIDIA ML"
   ]
  },
  {
   "cell_type": "code",
   "execution_count": null,
   "metadata": {
    "pycharm": {
     "name": "#%%\n"
    }
   },
   "outputs": [],
   "source": [
    "Nvidia = widgets.IntSlider(description = \"Nvidia\")"
   ]
  },
  {
   "cell_type": "markdown",
   "metadata": {
    "pycharm": {
     "name": "#%% md\n"
    }
   },
   "source": [
    "### ML Widget Selector Functionality"
   ]
  },
  {
   "cell_type": "code",
   "execution_count": null,
   "metadata": {
    "pycharm": {
     "name": "#%%\n"
    }
   },
   "outputs": [],
   "source": [
    "# Pre-requisites\n",
    "\"\"\"\n",
    "List of Machine Learning stuff\n",
    "Consider making it a text file to store/edit?\n",
    "\"\"\"\n",
    "ml_list = ['ToyotaHome', 'Nvidia']\n",
    "\n",
    "# Widgets\n",
    "mlSelectConfirm = widgets.Button(description=\"Confirm\")\n",
    "menu = widgets.Dropdown(\n",
    "    options=ml_list,\n",
    "    value=ml_list[0],\n",
    "    description='ML Model:')\n",
    "\n",
    "# Output\n",
    "widgetset = widgets.Output()\n",
    "\n",
    "# Function\n",
    "def selectWidgetSet(b):\n",
    "    with widgetset:\n",
    "        widgetset.clear_output()\n",
    "        if(menu.value == ml_list[0]): # if Toyota\n",
    "            display(Toyota, sharedWidgets)\n",
    "        elif(menu.value == ml_list[1]): # if Nvidia\n",
    "            display(Nvidia, sharedWidgets)\n",
    "\n",
    "\n",
    "mlSelectConfirm.on_click(selectWidgetSet)"
   ]
  },
  {
   "cell_type": "markdown",
   "metadata": {
    "pycharm": {
     "name": "#%% md\n"
    }
   },
   "source": [
    "### Other iPywidgets"
   ]
  },
  {
   "cell_type": "markdown",
   "metadata": {
    "pycharm": {
     "name": "#%% md\n"
    }
   },
   "source": [
    "#### Relevant links (in case I forget)\n",
    "Output Widget\n",
    "https://ipywidgets.readthedocs.io/en/latest/examples/Output%20Widget.html\n",
    "<br>Widget List\n",
    "https://ipywidgets.readthedocs.io/en/latest/examples/Widget%20List.html\n",
    "<br>Linking Widgets\n",
    "https://ipywidgets.readthedocs.io/en/7.6.2/examples/Widget%20Events.html\n",
    "<br>Clear Output\n",
    "https://stackoverflow.com/questions/54029719/jupyter-ipywidgets-how-to-clear-cell-output-before-re-printing-the-output\n",
    "<br>Video Playback\n",
    "https://towardsdatascience.com/video-streaming-in-the-jupyter-notebook-635bc5809e85\n",
    "\n",
    "##### Markdown Syntax\n",
    "https://www.markdownguide.org/basic-syntax"
   ]
  },
  {
   "cell_type": "code",
   "execution_count": null,
   "metadata": {
    "pycharm": {
     "name": "#%%\n"
    }
   },
   "outputs": [],
   "source": [
    "# calendar = widgets.DatePicker(\n",
    "#     description='Select Date')\n",
    "\n",
    "# checkbox = widgets.Checkbox(description='Check to invert',)\n",
    "\n",
    "# text = widgets.Text(\n",
    "#     value='None',\n",
    "#     description='Current ML', )\n",
    "\n",
    "# Linking Widgets\n",
    "# l = widgets.link((slider1, 'value'), (slider2, 'value'))\n",
    "\n",
    "# fileUpload = widgets.FileUpload(\n",
    "#     accept='',  # Accepted file extension e.g. '.txt', '.pdf', 'image/*', 'image/*,.pdf'\n",
    "#     multiple=False  # True to accept multiple files upload else False\n",
    "# )"
   ]
  },
  {
   "cell_type": "code",
   "execution_count": null,
   "metadata": {
    "pycharm": {
     "name": "#%%\n"
    }
   },
   "outputs": [],
   "source": [
    "FileName = 'C:\\\\Users\\\\Joshua Leong\\\\Videos\\\\2022-09-06 15-49-32.mp4'\n",
    "html_video_code = '<video width=\"100%\" height=\"100%\" controls><source src=\"{filepath}\" type=\"video/mp4\"></video>'.format(filepath = FileName)\n",
    "HTML(html_video_code)"
   ]
  }
 ],
 "metadata": {
  "kernelspec": {
   "display_name": "Python 3 (ipykernel)",
   "language": "python",
   "name": "python3"
  },
  "language_info": {
   "codemirror_mode": {
    "name": "ipython",
    "version": 3
   },
   "file_extension": ".py",
   "mimetype": "text/x-python",
   "name": "python",
   "nbconvert_exporter": "python",
   "pygments_lexer": "ipython3",
   "version": "3.10.6"
  }
 },
 "nbformat": 4,
 "nbformat_minor": 1
}