{
 "cells": [
  {
   "cell_type": "markdown",
   "metadata": {
    "pycharm": {
     "name": "#%% md\n"
    }
   },
   "source": [
    "# Machine Learning with ToyotaHome/NVIDIA"
   ]
  },
  {
   "cell_type": "markdown",
   "metadata": {
    "pycharm": {
     "name": "#%% md\n"
    }
   },
   "source": [
    "## READ ME:\n",
    "Run all cells in ascending order"
   ]
  },
  {
   "cell_type": "markdown",
   "metadata": {
    "pycharm": {
     "name": "#%% md\n"
    }
   },
   "source": [
    "### Setup/Imports"
   ]
  },
  {
   "cell_type": "code",
   "execution_count": 1,
   "metadata": {
    "pycharm": {
     "name": "#%%\n"
    }
   },
   "outputs": [],
   "source": [
    "# Functions to use along widgets\n",
    "from IPython.display import HTML, display, Markdown, Video, clear_output\n",
    "# Faciliate file selection\n",
    "from tkinter import *\n",
    "from tkinter import filedialog\n",
    "# Widget Packages\n",
    "import ipywidgets as widgets\n",
    "# jupyter nbextension enable --py widgetsnbextension\n",
    "# Used for local directory\n",
    "import os\n",
    "import sys"
   ]
  },
  {
   "cell_type": "markdown",
   "metadata": {
    "pycharm": {
     "name": "#%% md\n"
    }
   },
   "source": [
    "### Video Selector Functionality"
   ]
  },
  {
   "cell_type": "code",
   "execution_count": 2,
   "metadata": {
    "pycharm": {
     "name": "#%%\n"
    }
   },
   "outputs": [],
   "source": [
    "path = os.getcwd() # print(os.path.basename(path)) # get the local directory\n",
    "videoSelector = widgets.Button(description = \"Select Video Preview\")\n",
    "videoClearer = widgets.Button(description = \"Clear Video Preview\")\n",
    "\n",
    "#Create the videoplayer here\n",
    "video_output = widgets.Output() # Customisation\n",
    "\n",
    "def video_Select(b):\n",
    "    root = Tk()\n",
    "    root.filename =  filedialog.askopenfilename(\n",
    "        initialdir = path,title = \"Select file\",filetypes = ((\"videos\",\"*.mp4\"),(\"all files\",\"*.*\")))\n",
    "    FileName = os.path.basename(root.filename)\n",
    "    # Get directory path\n",
    "    cwd = os.getcwd()\n",
    "    # Get file path\n",
    "    AbsoluteFilePath = os.path.normpath(root.filename)\n",
    "    # Replace file path's directory nonsense with the relative command\n",
    "    FilePath = AbsoluteFilePath.replace(cwd,\".\")\n",
    "    root.destroy() #Closes the Window\n",
    "    with video_output:\n",
    "        # Create Video File\n",
    "        video_output.clear_output()\n",
    "        html_video_code = '<video width=\"100%\" height=\"100%\" controls><source src=\"{filepath}\" type=\"video/mp4\"></video>'.format(filepath = FilePath)\n",
    "        video_output.append_display_data(HTML(html_video_code))\n",
    "\n",
    "def video_Clear(b):\n",
    "    with video_output:\n",
    "        video_output.clear_output()\n",
    "\n",
    "#Link the button to the function\n",
    "videoSelector.on_click(video_Select)\n",
    "videoClearer.on_click(video_Clear)"
   ]
  },
  {
   "cell_type": "markdown",
   "metadata": {
    "pycharm": {
     "name": "#%% md\n"
    }
   },
   "source": [
    "### Shared Widgets"
   ]
  },
  {
   "cell_type": "code",
   "execution_count": 3,
   "metadata": {
    "pycharm": {
     "name": "#%%\n"
    }
   },
   "outputs": [],
   "source": [
    "selected_Directory = widgets.Text(\n",
    "    description = 'Directory',\n",
    "    value = '',\n",
    "    placeholder = 'Select Directory'\n",
    "    )\n",
    "current_Directory = widgets.Label()\n",
    "tooltip_Dir = widgets.Label(\"Current Directory: \")\n",
    "selectDir = widgets.Button(description = \"Select Directory\")\n",
    "clearDir = widgets.Button(description = \"Clear\")\n",
    "confirmDir = widgets.Button(description = \"Confirm\")\n",
    "\n",
    "sharedWidgets = widgets.VBox([widgets.HBox([tooltip_Dir,current_Directory]),widgets.HBox([selectDir, confirmDir, clearDir])])\n",
    "\n",
    "def directory_Select(b):\n",
    "    root = Tk()\n",
    "    root.directory =  filedialog.askdirectory (\n",
    "        initialdir = path)\n",
    "    selected_Directory.value = root.directory\n",
    "    root.destroy() #Closes the Window\\n\",\n",
    "\n",
    "def directory_Clear(b):\n",
    "    current_Directory.value = \"\"\n",
    "\n",
    "def directory_Print(b):\n",
    "    current_Directory.value = selected_Directory.value\n",
    "selectDir.on_click(directory_Select)\n",
    "clearDir.on_click(directory_Clear)\n",
    "confirmDir.on_click(directory_Print)"
   ]
  },
  {
   "cell_type": "markdown",
   "metadata": {
    "pycharm": {
     "name": "#%% md\n"
    }
   },
   "source": [
    "###  Toyota Widgets\n",
    "These are the widgets required to run Toyota ML"
   ]
  },
  {
   "cell_type": "code",
   "execution_count": 4,
   "metadata": {
    "pycharm": {
     "name": "#%%\n"
    }
   },
   "outputs": [],
   "source": [
    "Toyota = widgets.IntSlider(description = \"Toyo\")"
   ]
  },
  {
   "cell_type": "markdown",
   "metadata": {
    "pycharm": {
     "name": "#%% md\n"
    }
   },
   "source": [
    "### NVIDIA Widgets\n",
    "These are the widgets required to run NVIDIA ML"
   ]
  },
  {
   "cell_type": "code",
   "execution_count": 5,
   "metadata": {
    "pycharm": {
     "name": "#%%\n"
    }
   },
   "outputs": [],
   "source": [
    "Nvidia = widgets.IntSlider(description = \"Nvidia\")"
   ]
  },
  {
   "cell_type": "code",
   "execution_count": 6,
   "metadata": {
    "pycharm": {
     "name": "#%%\n"
    }
   },
   "outputs": [],
   "source": [
    "# Pre-requisites\n",
    "\"\"\"\n",
    "List of Machine Learning stuff\n",
    "Consider making it a text file to store/edit?\n",
    "\"\"\"\n",
    "ml_list = ['ToyotaHome', 'Nvidia']\n",
    "\n",
    "# Widgets\n",
    "mlSelectConfirm = widgets.Button(description=\"Confirm\")\n",
    "menu = widgets.Dropdown(\n",
    "    options=ml_list,\n",
    "    value=ml_list[0],\n",
    "    description='ML Model:')\n",
    "\n",
    "# Output\n",
    "widgetset = widgets.Output()\n",
    "\n",
    "# Function\n",
    "def selectWidgetSet(b):\n",
    "    with widgetset:\n",
    "        widgetset.clear_output()\n",
    "        if(menu.value == ml_list[0]): # if Toyota\n",
    "            display(Toyota, sharedWidgets)\n",
    "        elif(menu.value == ml_list[1]): # if Nvidia\n",
    "            display(Nvidia, sharedWidgets)\n",
    "\n",
    "\n",
    "mlSelectConfirm.on_click(selectWidgetSet)"
   ]
  },
  {
   "cell_type": "markdown",
   "metadata": {
    "pycharm": {
     "name": "#%% md\n"
    }
   },
   "source": [
    "### Other iPywidgets"
   ]
  },
  {
   "cell_type": "markdown",
   "metadata": {
    "pycharm": {
     "name": "#%% md\n"
    }
   },
   "source": [
    "#### Relevant links (in case I forget)\n",
    "Output Widget\n",
    "https://ipywidgets.readthedocs.io/en/latest/examples/Output%20Widget.html\n",
    "<br>Widget List\n",
    "https://ipywidgets.readthedocs.io/en/latest/examples/Widget%20List.html\n",
    "<br>Linking Widgets\n",
    "https://ipywidgets.readthedocs.io/en/7.6.2/examples/Widget%20Events.html\n",
    "<br>Clear Output\n",
    "https://stackoverflow.com/questions/54029719/jupyter-ipywidgets-how-to-clear-cell-output-before-re-printing-the-output\n",
    "<br>Video Playback\n",
    "https://towardsdatascience.com/video-streaming-in-the-jupyter-notebook-635bc5809e85\n",
    "\n",
    "##### Markdown Syntax\n",
    "https://www.markdownguide.org/basic-syntax"
   ]
  },
  {
   "cell_type": "code",
   "execution_count": 7,
   "metadata": {
    "pycharm": {
     "name": "#%%\n"
    },
    "scrolled": true
   },
   "outputs": [
    {
     "data": {
      "application/vnd.jupyter.widget-view+json": {
       "model_id": "a2449b6395d94bdd85729a0b9aa265a1",
       "version_major": 2,
       "version_minor": 0
      },
      "text/plain": [
       "VBox(children=(Label(value='Control Panel'), VBox(children=(HBox(children=(Dropdown(description='ML Model:', o…"
      ]
     },
     "execution_count": 7,
     "metadata": {},
     "output_type": "execute_result"
    }
   ],
   "source": [
    "title = widgets.Label(\"Control Panel\")\n",
    "tooltip = widgets.Label(\"Supported Video Types: MP4, WebM, and OGG.\")\n",
    "\n",
    "mlBox = widgets.VBox([widgets.HBox([menu, mlSelectConfirm]),widgetset])\n",
    "videoBox = widgets.VBox([widgets.HBox([videoSelector, videoClearer, tooltip]),video_output])\n",
    "toolBox = widgets.VBox([title,mlBox,videoBox])\n",
    "\n",
    "toolBox\n",
    "\n",
    "### ML Widget Selector Functionality"
   ]
  },
  {
   "cell_type": "markdown",
   "metadata": {},
   "source": [
    "# 1. Data Exploration"
   ]
  },
  {
   "cell_type": "markdown",
   "metadata": {},
   "source": [
    "## 1.1 Select a video to playback"
   ]
  },
  {
   "cell_type": "code",
   "execution_count": 8,
   "metadata": {},
   "outputs": [
    {
     "name": "stdout",
     "output_type": "stream",
     "text": [
      "This Folder contains 1 file(s).\n"
     ]
    },
    {
     "data": {
      "application/vnd.jupyter.widget-view+json": {
       "model_id": "6f74e877cbc34722bd3284bcc908cde9",
       "version_major": 2,
       "version_minor": 0
      },
      "text/plain": [
       "Dropdown(description='Video: ', options=('P02T01C06.mp4',), value='P02T01C06.mp4')"
      ]
     },
     "metadata": {},
     "output_type": "display_data"
    },
    {
     "data": {
      "application/vnd.jupyter.widget-view+json": {
       "model_id": "cd37adaccbfc4bd4b17e0b3a5c8fe4ea",
       "version_major": 2,
       "version_minor": 0
      },
      "text/plain": [
       "Button(description='Clear Playback', style=ButtonStyle())"
      ]
     },
     "metadata": {},
     "output_type": "display_data"
    },
    {
     "data": {
      "application/vnd.jupyter.widget-view+json": {
       "model_id": "b789037bede849a381d5f048dee044c6",
       "version_major": 2,
       "version_minor": 0
      },
      "text/plain": [
       "Button(description='Play video', style=ButtonStyle())"
      ]
     },
     "metadata": {},
     "output_type": "display_data"
    },
    {
     "data": {
      "application/vnd.jupyter.widget-view+json": {
       "model_id": "f3b122b62167419eb286baa44f411c7c",
       "version_major": 2,
       "version_minor": 0
      },
      "text/plain": [
       "Output()"
      ]
     },
     "metadata": {},
     "output_type": "display_data"
    }
   ],
   "source": [
    "# @hidden_cell\n",
    "## retrieve all videos to dropdown list\n",
    "\n",
    "def populateList(fileDirectory, fileType):\n",
    "    folder_files = os.listdir(fileDirectory) #You can also use full path.\n",
    "    print(\"This Folder contains {len_folder} file(s).\".format(len_folder=len(folder_files)))\n",
    "    fileList = []\n",
    "    for file in folder_files:\n",
    "        if file.endswith(fileType):\n",
    "            fileList.append(file)\n",
    "    return fileList\n",
    "\n",
    "fileList = populateList('data/rgbVideos', \".mp4\")\n",
    "        \n",
    "## dropdown list to select video to play\n",
    "videoSelected = widgets.Dropdown(\n",
    "    options = fileList,\n",
    "    value= fileList[0],\n",
    "    description=\"Video: \",\n",
    "    disabled=False,\n",
    ")\n",
    "display(videoSelected)\n",
    "#https://ipywidgets.readthedocs.io/en/stable/examples/Widget%20List.html#Button\n",
    "videoButton = widgets.Button(\n",
    "    description='Play video'\n",
    ")\n",
    "video_output = widgets.Output()\n",
    "def explore_video(b):\n",
    "    with video_output:\n",
    "        # Create Video File\n",
    "        video_output.clear_output()\n",
    "        html_video_code = '<video width=\"80%\" height=\"80%\" controls><source src=\"./data/rgbVideos/{fileName}\" type=\"video/mp4\"></video>'.format(fileName = videoSelected.value)\n",
    "        video_output.append_display_data(HTML(html_video_code))\n",
    "\n",
    "\n",
    "videoButton.on_click(explore_video)\n",
    "\n",
    "clearButton = widgets.Button(\n",
    "    description='Clear Playback'\n",
    ")\n",
    "\n",
    "def clear_video(b):\n",
    "    with video_output:\n",
    "        video_output.clear_output()\n",
    "        \n",
    "# display(clearButton)\n",
    "clearButton.on_click(clear_video)\n",
    "\n",
    "## to align the buttons to 1 row\n",
    "display(clearButton)\n",
    "display(videoButton, video_output)"
   ]
  },
  {
   "cell_type": "markdown",
   "metadata": {},
   "source": [
    "# 2. Inference Section"
   ]
  },
  {
   "cell_type": "markdown",
   "metadata": {},
   "source": [
    "## Load a pretrained model"
   ]
  },
  {
   "cell_type": "code",
   "execution_count": 9,
   "metadata": {},
   "outputs": [
    {
     "data": {
      "application/vnd.jupyter.widget-view+json": {
       "model_id": "1dfedab0af6d4a959c9f53c03c6037ee",
       "version_major": 2,
       "version_minor": 0
      },
      "text/plain": [
       "Dropdown(description='Choose a pre-trained model', options=('PDAN_TSU_RGB', 'README.md'), value='PDAN_TSU_RGB'…"
      ]
     },
     "execution_count": 9,
     "metadata": {},
     "output_type": "execute_result"
    }
   ],
   "source": [
    "model_dir = './TSU/models/'\n",
    "# listdir() returns a list containing the names of the entries in the directory given by path.\n",
    "modelList = os.listdir(\"./TSU/models\")\n",
    "\n",
    "selectModel = widgets.Dropdown(\n",
    "    options = modelList,\n",
    "    value = modelList[0],\n",
    "    description = \"Choose a pre-trained model\",\n",
    "    disabled= False\n",
    ")\n",
    "\n",
    "selectModel\n",
    "# print(selectModel.value)"
   ]
  },
  {
   "cell_type": "markdown",
   "metadata": {},
   "source": [
    "## Choose an input video from the TSU project"
   ]
  },
  {
   "cell_type": "code",
   "execution_count": 10,
   "metadata": {},
   "outputs": [
    {
     "name": "stdout",
     "output_type": "stream",
     "text": [
      "This Folder contains 1 file(s).\n"
     ]
    },
    {
     "data": {
      "application/vnd.jupyter.widget-view+json": {
       "model_id": "dd9242dad76541a3837dd1299b4497ac",
       "version_major": 2,
       "version_minor": 0
      },
      "text/plain": [
       "Dropdown(description='Video: ', options=('P02T01C06.mp4',), value='P02T01C06.mp4')"
      ]
     },
     "metadata": {},
     "output_type": "display_data"
    },
    {
     "data": {
      "application/vnd.jupyter.widget-view+json": {
       "model_id": "b7953c8cb58f4c8f9641535dfd2e397d",
       "version_major": 2,
       "version_minor": 0
      },
      "text/plain": [
       "Button(description='Select video', style=ButtonStyle())"
      ]
     },
     "metadata": {},
     "output_type": "display_data"
    }
   ],
   "source": [
    "import os\n",
    "\n",
    "## retrieve all TSU videos to dropdown list\n",
    "folder_files = os.listdir('data/rgbVideos') \n",
    "print(\"This Folder contains {len_folder} file(s).\".format(len_folder=len(folder_files)))\n",
    "fileList=[]\n",
    "for file in folder_files:\n",
    "    fileList.append(file)\n",
    "\n",
    "selected_input_video = widgets.Dropdown(\n",
    "    options = fileList,\n",
    "    value= fileList[0],\n",
    "    description=\"Video: \",\n",
    "    disabled=False,\n",
    ")\n",
    "display(selected_input_video)\n",
    "\n",
    "select_button = widgets.Button(\n",
    "    description='Select video'\n",
    ")\n",
    "display(select_button)\n",
    "\n",
    "\n",
    "# dropdown selected value --> selected_input_video.value\n",
    "# def get_selected_value(b):\n",
    "#     print(selected_input_video.value)\n",
    "# select_button.on_click(get_selected_value)"
   ]
  },
  {
   "cell_type": "markdown",
   "metadata": {},
   "source": [
    "## Inference Results"
   ]
  },
  {
   "cell_type": "code",
   "execution_count": 11,
   "metadata": {
    "pycharm": {
     "name": "#%%\n"
    },
    "scrolled": true
   },
   "outputs": [
    {
     "name": "stdout",
     "output_type": "stream",
     "text": [
      "Requirement already satisfied: argon2-cffi==21.3.0 in c:\\users\\joshua leong\\desktop\\3104\\ict3104-team03-2022\\venv\\lib\\site-packages (from -r requirements_forTSU.txt (line 1)) (21.3.0)\n",
      "Requirement already satisfied: argon2-cffi-bindings==21.2.0 in c:\\users\\joshua leong\\desktop\\3104\\ict3104-team03-2022\\venv\\lib\\site-packages (from -r requirements_forTSU.txt (line 2)) (21.2.0)\n",
      "Requirement already satisfied: asttokens==2.0.8 in c:\\users\\joshua leong\\desktop\\3104\\ict3104-team03-2022\\venv\\lib\\site-packages (from -r requirements_forTSU.txt (line 3)) (2.0.8)\n",
      "Requirement already satisfied: attrs==22.1.0 in c:\\users\\joshua leong\\desktop\\3104\\ict3104-team03-2022\\venv\\lib\\site-packages (from -r requirements_forTSU.txt (line 4)) (22.1.0)\n",
      "Requirement already satisfied: backcall==0.2.0 in c:\\users\\joshua leong\\desktop\\3104\\ict3104-team03-2022\\venv\\lib\\site-packages (from -r requirements_forTSU.txt (line 5)) (0.2.0)\n",
      "Requirement already satisfied: beautifulsoup4==4.11.1 in c:\\users\\joshua leong\\desktop\\3104\\ict3104-team03-2022\\venv\\lib\\site-packages (from -r requirements_forTSU.txt (line 6)) (4.11.1)\n",
      "Requirement already satisfied: bleach==5.0.1 in c:\\users\\joshua leong\\desktop\\3104\\ict3104-team03-2022\\venv\\lib\\site-packages (from -r requirements_forTSU.txt (line 7)) (5.0.1)\n",
      "Requirement already satisfied: certifi==2022.9.14 in c:\\users\\joshua leong\\desktop\\3104\\ict3104-team03-2022\\venv\\lib\\site-packages (from -r requirements_forTSU.txt (line 8)) (2022.9.14)\n",
      "Requirement already satisfied: cffi==1.15.1 in c:\\users\\joshua leong\\desktop\\3104\\ict3104-team03-2022\\venv\\lib\\site-packages (from -r requirements_forTSU.txt (line 9)) (1.15.1)\n",
      "Requirement already satisfied: charset-normalizer==2.1.1 in c:\\users\\joshua leong\\desktop\\3104\\ict3104-team03-2022\\venv\\lib\\site-packages (from -r requirements_forTSU.txt (line 10)) (2.1.1)\n",
      "Requirement already satisfied: colorama==0.4.5 in c:\\users\\joshua leong\\desktop\\3104\\ict3104-team03-2022\\venv\\lib\\site-packages (from -r requirements_forTSU.txt (line 11)) (0.4.5)\n",
      "Requirement already satisfied: debugpy==1.6.3 in c:\\users\\joshua leong\\desktop\\3104\\ict3104-team03-2022\\venv\\lib\\site-packages (from -r requirements_forTSU.txt (line 12)) (1.6.3)\n",
      "Requirement already satisfied: decorator==5.1.1 in c:\\users\\joshua leong\\desktop\\3104\\ict3104-team03-2022\\venv\\lib\\site-packages (from -r requirements_forTSU.txt (line 13)) (5.1.1)\n",
      "Requirement already satisfied: defusedxml==0.7.1 in c:\\users\\joshua leong\\desktop\\3104\\ict3104-team03-2022\\venv\\lib\\site-packages (from -r requirements_forTSU.txt (line 14)) (0.7.1)\n",
      "Requirement already satisfied: entrypoints==0.4 in c:\\users\\joshua leong\\desktop\\3104\\ict3104-team03-2022\\venv\\lib\\site-packages (from -r requirements_forTSU.txt (line 15)) (0.4)\n",
      "Requirement already satisfied: executing==1.0.0 in c:\\users\\joshua leong\\desktop\\3104\\ict3104-team03-2022\\venv\\lib\\site-packages (from -r requirements_forTSU.txt (line 16)) (1.0.0)\n",
      "Requirement already satisfied: fastjsonschema==2.16.1 in c:\\users\\joshua leong\\desktop\\3104\\ict3104-team03-2022\\venv\\lib\\site-packages (from -r requirements_forTSU.txt (line 17)) (2.16.1)\n",
      "Requirement already satisfied: idna==3.4 in c:\\users\\joshua leong\\desktop\\3104\\ict3104-team03-2022\\venv\\lib\\site-packages (from -r requirements_forTSU.txt (line 18)) (3.4)\n",
      "Requirement already satisfied: ipykernel==6.15.3 in c:\\users\\joshua leong\\desktop\\3104\\ict3104-team03-2022\\venv\\lib\\site-packages (from -r requirements_forTSU.txt (line 19)) (6.15.3)\n",
      "Requirement already satisfied: ipython==8.5.0 in c:\\users\\joshua leong\\desktop\\3104\\ict3104-team03-2022\\venv\\lib\\site-packages (from -r requirements_forTSU.txt (line 20)) (8.5.0)\n",
      "Requirement already satisfied: ipython-genutils==0.2.0 in c:\\users\\joshua leong\\desktop\\3104\\ict3104-team03-2022\\venv\\lib\\site-packages (from -r requirements_forTSU.txt (line 21)) (0.2.0)\n",
      "Requirement already satisfied: ipywidgets==8.0.2 in c:\\users\\joshua leong\\desktop\\3104\\ict3104-team03-2022\\venv\\lib\\site-packages (from -r requirements_forTSU.txt (line 22)) (8.0.2)\n",
      "Requirement already satisfied: jedi==0.18.1 in c:\\users\\joshua leong\\desktop\\3104\\ict3104-team03-2022\\venv\\lib\\site-packages (from -r requirements_forTSU.txt (line 23)) (0.18.1)\n",
      "Requirement already satisfied: Jinja2==3.1.2 in c:\\users\\joshua leong\\desktop\\3104\\ict3104-team03-2022\\venv\\lib\\site-packages (from -r requirements_forTSU.txt (line 24)) (3.1.2)\n",
      "Requirement already satisfied: joblib==1.2.0 in c:\\users\\joshua leong\\desktop\\3104\\ict3104-team03-2022\\venv\\lib\\site-packages (from -r requirements_forTSU.txt (line 25)) (1.2.0)\n",
      "Requirement already satisfied: jsonschema==4.16.0 in c:\\users\\joshua leong\\desktop\\3104\\ict3104-team03-2022\\venv\\lib\\site-packages (from -r requirements_forTSU.txt (line 26)) (4.16.0)\n",
      "Requirement already satisfied: jupyter==1.0.0 in c:\\users\\joshua leong\\desktop\\3104\\ict3104-team03-2022\\venv\\lib\\site-packages (from -r requirements_forTSU.txt (line 27)) (1.0.0)\n",
      "Requirement already satisfied: jupyter-console==6.4.4 in c:\\users\\joshua leong\\desktop\\3104\\ict3104-team03-2022\\venv\\lib\\site-packages (from -r requirements_forTSU.txt (line 28)) (6.4.4)\n",
      "Requirement already satisfied: jupyter-core==4.11.1 in c:\\users\\joshua leong\\desktop\\3104\\ict3104-team03-2022\\venv\\lib\\site-packages (from -r requirements_forTSU.txt (line 29)) (4.11.1)\n",
      "Requirement already satisfied: jupyter_client==7.3.5 in c:\\users\\joshua leong\\desktop\\3104\\ict3104-team03-2022\\venv\\lib\\site-packages (from -r requirements_forTSU.txt (line 30)) (7.3.5)\n",
      "Requirement already satisfied: jupyterlab-pygments==0.2.2 in c:\\users\\joshua leong\\desktop\\3104\\ict3104-team03-2022\\venv\\lib\\site-packages (from -r requirements_forTSU.txt (line 31)) (0.2.2)\n",
      "Requirement already satisfied: jupyterlab-widgets==3.0.3 in c:\\users\\joshua leong\\desktop\\3104\\ict3104-team03-2022\\venv\\lib\\site-packages (from -r requirements_forTSU.txt (line 32)) (3.0.3)\n",
      "Requirement already satisfied: lxml==4.9.1 in c:\\users\\joshua leong\\desktop\\3104\\ict3104-team03-2022\\venv\\lib\\site-packages (from -r requirements_forTSU.txt (line 33)) (4.9.1)\n",
      "Requirement already satisfied: MarkupSafe==2.1.1 in c:\\users\\joshua leong\\desktop\\3104\\ict3104-team03-2022\\venv\\lib\\site-packages (from -r requirements_forTSU.txt (line 34)) (2.1.1)\n",
      "Requirement already satisfied: matplotlib-inline==0.1.6 in c:\\users\\joshua leong\\desktop\\3104\\ict3104-team03-2022\\venv\\lib\\site-packages (from -r requirements_forTSU.txt (line 35)) (0.1.6)\n",
      "Requirement already satisfied: mistune==2.0.4 in c:\\users\\joshua leong\\desktop\\3104\\ict3104-team03-2022\\venv\\lib\\site-packages (from -r requirements_forTSU.txt (line 36)) (2.0.4)\n",
      "Requirement already satisfied: nbclient==0.6.8 in c:\\users\\joshua leong\\desktop\\3104\\ict3104-team03-2022\\venv\\lib\\site-packages (from -r requirements_forTSU.txt (line 37)) (0.6.8)\n",
      "Requirement already satisfied: nbconvert==7.0.0 in c:\\users\\joshua leong\\desktop\\3104\\ict3104-team03-2022\\venv\\lib\\site-packages (from -r requirements_forTSU.txt (line 38)) (7.0.0)\n",
      "Requirement already satisfied: nbformat==5.5.0 in c:\\users\\joshua leong\\desktop\\3104\\ict3104-team03-2022\\venv\\lib\\site-packages (from -r requirements_forTSU.txt (line 39)) (5.5.0)\n",
      "Requirement already satisfied: nest-asyncio==1.5.5 in c:\\users\\joshua leong\\desktop\\3104\\ict3104-team03-2022\\venv\\lib\\site-packages (from -r requirements_forTSU.txt (line 40)) (1.5.5)\n",
      "Requirement already satisfied: notebook==6.4.12 in c:\\users\\joshua leong\\desktop\\3104\\ict3104-team03-2022\\venv\\lib\\site-packages (from -r requirements_forTSU.txt (line 41)) (6.4.12)\n",
      "Requirement already satisfied: numpy==1.23.3 in c:\\users\\joshua leong\\desktop\\3104\\ict3104-team03-2022\\venv\\lib\\site-packages (from -r requirements_forTSU.txt (line 42)) (1.23.3)\n",
      "Requirement already satisfied: opencv-python==4.6.0.66 in c:\\users\\joshua leong\\desktop\\3104\\ict3104-team03-2022\\venv\\lib\\site-packages (from -r requirements_forTSU.txt (line 43)) (4.6.0.66)\n",
      "Requirement already satisfied: packaging==21.3 in c:\\users\\joshua leong\\desktop\\3104\\ict3104-team03-2022\\venv\\lib\\site-packages (from -r requirements_forTSU.txt (line 44)) (21.3)\n",
      "Requirement already satisfied: pandocfilters==1.5.0 in c:\\users\\joshua leong\\desktop\\3104\\ict3104-team03-2022\\venv\\lib\\site-packages (from -r requirements_forTSU.txt (line 45)) (1.5.0)\n",
      "Requirement already satisfied: parso==0.8.3 in c:\\users\\joshua leong\\desktop\\3104\\ict3104-team03-2022\\venv\\lib\\site-packages (from -r requirements_forTSU.txt (line 46)) (0.8.3)\n",
      "Requirement already satisfied: pickleshare==0.7.5 in c:\\users\\joshua leong\\desktop\\3104\\ict3104-team03-2022\\venv\\lib\\site-packages (from -r requirements_forTSU.txt (line 47)) (0.7.5)\n",
      "Requirement already satisfied: Pillow==9.2.0 in c:\\users\\joshua leong\\desktop\\3104\\ict3104-team03-2022\\venv\\lib\\site-packages (from -r requirements_forTSU.txt (line 48)) (9.2.0)\n",
      "Requirement already satisfied: prometheus-client==0.14.1 in c:\\users\\joshua leong\\desktop\\3104\\ict3104-team03-2022\\venv\\lib\\site-packages (from -r requirements_forTSU.txt (line 49)) (0.14.1)\n",
      "Requirement already satisfied: prompt-toolkit==3.0.31 in c:\\users\\joshua leong\\desktop\\3104\\ict3104-team03-2022\\venv\\lib\\site-packages (from -r requirements_forTSU.txt (line 50)) (3.0.31)\n",
      "Requirement already satisfied: psutil==5.9.2 in c:\\users\\joshua leong\\desktop\\3104\\ict3104-team03-2022\\venv\\lib\\site-packages (from -r requirements_forTSU.txt (line 51)) (5.9.2)\n",
      "Requirement already satisfied: pure-eval==0.2.2 in c:\\users\\joshua leong\\desktop\\3104\\ict3104-team03-2022\\venv\\lib\\site-packages (from -r requirements_forTSU.txt (line 52)) (0.2.2)\n",
      "Requirement already satisfied: pycparser==2.21 in c:\\users\\joshua leong\\desktop\\3104\\ict3104-team03-2022\\venv\\lib\\site-packages (from -r requirements_forTSU.txt (line 53)) (2.21)\n",
      "Requirement already satisfied: Pygments==2.13.0 in c:\\users\\joshua leong\\desktop\\3104\\ict3104-team03-2022\\venv\\lib\\site-packages (from -r requirements_forTSU.txt (line 54)) (2.13.0)\n",
      "Requirement already satisfied: pyparsing==3.0.9 in c:\\users\\joshua leong\\desktop\\3104\\ict3104-team03-2022\\venv\\lib\\site-packages (from -r requirements_forTSU.txt (line 55)) (3.0.9)\n",
      "Requirement already satisfied: pyrsistent==0.18.1 in c:\\users\\joshua leong\\desktop\\3104\\ict3104-team03-2022\\venv\\lib\\site-packages (from -r requirements_forTSU.txt (line 56)) (0.18.1)\n",
      "Requirement already satisfied: python-dateutil==2.8.2 in c:\\users\\joshua leong\\desktop\\3104\\ict3104-team03-2022\\venv\\lib\\site-packages (from -r requirements_forTSU.txt (line 57)) (2.8.2)\n",
      "Requirement already satisfied: pywin32==304 in c:\\users\\joshua leong\\desktop\\3104\\ict3104-team03-2022\\venv\\lib\\site-packages (from -r requirements_forTSU.txt (line 58)) (304)\n",
      "Requirement already satisfied: pywinpty==2.0.8 in c:\\users\\joshua leong\\desktop\\3104\\ict3104-team03-2022\\venv\\lib\\site-packages (from -r requirements_forTSU.txt (line 59)) (2.0.8)\n",
      "Requirement already satisfied: pyzmq==24.0.0 in c:\\users\\joshua leong\\desktop\\3104\\ict3104-team03-2022\\venv\\lib\\site-packages (from -r requirements_forTSU.txt (line 60)) (24.0.0)\n",
      "Requirement already satisfied: qtconsole==5.3.2 in c:\\users\\joshua leong\\desktop\\3104\\ict3104-team03-2022\\venv\\lib\\site-packages (from -r requirements_forTSU.txt (line 61)) (5.3.2)\n",
      "Requirement already satisfied: QtPy==2.2.0 in c:\\users\\joshua leong\\desktop\\3104\\ict3104-team03-2022\\venv\\lib\\site-packages (from -r requirements_forTSU.txt (line 62)) (2.2.0)\n",
      "Requirement already satisfied: requests==2.28.1 in c:\\users\\joshua leong\\desktop\\3104\\ict3104-team03-2022\\venv\\lib\\site-packages (from -r requirements_forTSU.txt (line 63)) (2.28.1)\n",
      "Requirement already satisfied: scikit-learn==1.1.2 in c:\\users\\joshua leong\\desktop\\3104\\ict3104-team03-2022\\venv\\lib\\site-packages (from -r requirements_forTSU.txt (line 64)) (1.1.2)\n",
      "Requirement already satisfied: scipy==1.9.1 in c:\\users\\joshua leong\\desktop\\3104\\ict3104-team03-2022\\venv\\lib\\site-packages (from -r requirements_forTSU.txt (line 65)) (1.9.1)\n",
      "Requirement already satisfied: Send2Trash==1.8.0 in c:\\users\\joshua leong\\desktop\\3104\\ict3104-team03-2022\\venv\\lib\\site-packages (from -r requirements_forTSU.txt (line 66)) (1.8.0)\n",
      "Requirement already satisfied: six==1.16.0 in c:\\users\\joshua leong\\desktop\\3104\\ict3104-team03-2022\\venv\\lib\\site-packages (from -r requirements_forTSU.txt (line 67)) (1.16.0)\n",
      "Requirement already satisfied: soupsieve==2.3.2.post1 in c:\\users\\joshua leong\\desktop\\3104\\ict3104-team03-2022\\venv\\lib\\site-packages (from -r requirements_forTSU.txt (line 68)) (2.3.2.post1)\n",
      "Requirement already satisfied: stack-data==0.5.0 in c:\\users\\joshua leong\\desktop\\3104\\ict3104-team03-2022\\venv\\lib\\site-packages (from -r requirements_forTSU.txt (line 69)) (0.5.0)\n",
      "Requirement already satisfied: terminado==0.15.0 in c:\\users\\joshua leong\\desktop\\3104\\ict3104-team03-2022\\venv\\lib\\site-packages (from -r requirements_forTSU.txt (line 70)) (0.15.0)\n",
      "Requirement already satisfied: threadpoolctl==3.1.0 in c:\\users\\joshua leong\\desktop\\3104\\ict3104-team03-2022\\venv\\lib\\site-packages (from -r requirements_forTSU.txt (line 71)) (3.1.0)\n",
      "Requirement already satisfied: timm==0.4.12 in c:\\users\\joshua leong\\desktop\\3104\\ict3104-team03-2022\\venv\\lib\\site-packages (from -r requirements_forTSU.txt (line 72)) (0.4.12)\n",
      "Requirement already satisfied: tinycss2==1.1.1 in c:\\users\\joshua leong\\desktop\\3104\\ict3104-team03-2022\\venv\\lib\\site-packages (from -r requirements_forTSU.txt (line 73)) (1.1.1)\n",
      "Requirement already satisfied: torch==1.12.1+cu116 in c:\\users\\joshua leong\\desktop\\3104\\ict3104-team03-2022\\venv\\lib\\site-packages (from -r requirements_forTSU.txt (line 74)) (1.12.1+cu116)\n",
      "Requirement already satisfied: torchaudio==0.12.1+cu116 in c:\\users\\joshua leong\\desktop\\3104\\ict3104-team03-2022\\venv\\lib\\site-packages (from -r requirements_forTSU.txt (line 75)) (0.12.1+cu116)\n",
      "Requirement already satisfied: torchvision==0.13.1+cu116 in c:\\users\\joshua leong\\desktop\\3104\\ict3104-team03-2022\\venv\\lib\\site-packages (from -r requirements_forTSU.txt (line 76)) (0.13.1+cu116)\n",
      "Requirement already satisfied: tornado==6.2 in c:\\users\\joshua leong\\desktop\\3104\\ict3104-team03-2022\\venv\\lib\\site-packages (from -r requirements_forTSU.txt (line 77)) (6.2)\n",
      "Requirement already satisfied: tqdm==4.64.1 in c:\\users\\joshua leong\\desktop\\3104\\ict3104-team03-2022\\venv\\lib\\site-packages (from -r requirements_forTSU.txt (line 78)) (4.64.1)\n",
      "Requirement already satisfied: traitlets==5.4.0 in c:\\users\\joshua leong\\desktop\\3104\\ict3104-team03-2022\\venv\\lib\\site-packages (from -r requirements_forTSU.txt (line 79)) (5.4.0)\n",
      "Requirement already satisfied: typing_extensions==4.3.0 in c:\\users\\joshua leong\\desktop\\3104\\ict3104-team03-2022\\venv\\lib\\site-packages (from -r requirements_forTSU.txt (line 80)) (4.3.0)\n",
      "Requirement already satisfied: urllib3==1.26.12 in c:\\users\\joshua leong\\desktop\\3104\\ict3104-team03-2022\\venv\\lib\\site-packages (from -r requirements_forTSU.txt (line 81)) (1.26.12)\n",
      "Requirement already satisfied: wcwidth==0.2.5 in c:\\users\\joshua leong\\desktop\\3104\\ict3104-team03-2022\\venv\\lib\\site-packages (from -r requirements_forTSU.txt (line 82)) (0.2.5)\n",
      "Requirement already satisfied: webencodings==0.5.1 in c:\\users\\joshua leong\\desktop\\3104\\ict3104-team03-2022\\venv\\lib\\site-packages (from -r requirements_forTSU.txt (line 83)) (0.5.1)\n",
      "Requirement already satisfied: widgetsnbextension==4.0.3 in c:\\users\\joshua leong\\desktop\\3104\\ict3104-team03-2022\\venv\\lib\\site-packages (from -r requirements_forTSU.txt (line 84)) (4.0.3)\n"
     ]
    }
   ],
   "source": [
    "##Install dependencies\n",
    "\n",
    "!pip install -r requirements_forTSU.txt"
   ]
  },
  {
   "cell_type": "code",
   "execution_count": 12,
   "metadata": {},
   "outputs": [
    {
     "name": "stdout",
     "output_type": "stream",
     "text": [
      "C:\\Users\\Joshua Leong\\Desktop\\3104\\ict3104-team03-2022\n"
     ]
    }
   ],
   "source": [
    "print(os.getcwd())"
   ]
  },
  {
   "cell_type": "code",
   "execution_count": 13,
   "metadata": {
    "pycharm": {
     "name": "#%%\n"
    },
    "scrolled": false
   },
   "outputs": [],
   "source": [
    "#see inference results in the form of output video with captions indicating detected activity in each video frame\n",
    "\n",
    "pretrainModel = selectModel.value\n",
    "videoName = selected_input_video.value\n",
    "dir = \"./TSU/models\"+pretrainModel\n",
    "\n",
    "# %run ./TSU/test.py -load_model $dir\n",
    "#%run ./TSU/test.py -load_model ./TSU/models/PDAN_TSU_RGB\n"
   ]
  },
  {
   "cell_type": "code",
   "execution_count": 14,
   "metadata": {},
   "outputs": [],
   "source": [
    "## display video with captions"
   ]
  },
  {
   "cell_type": "markdown",
   "metadata": {},
   "source": [
    "# 3. Training Section"
   ]
  },
  {
   "cell_type": "markdown",
   "metadata": {},
   "source": [
    "## Selecting Dataset Code"
   ]
  },
  {
   "cell_type": "code",
   "execution_count": 15,
   "metadata": {},
   "outputs": [
    {
     "name": "stdout",
     "output_type": "stream",
     "text": [
      "This Folder contains 4 file(s).\n"
     ]
    }
   ],
   "source": [
    "# Training Dataset Upload Label\n",
    "training_dataset_label = widgets.Label(\"Select dataset or upload your own\")\n",
    "\n",
    "# Create list for use with user dataset selection\n",
    "datasetList = populateList(\"./TSU/tsu_data\", \".json\") # populate list with files from dataset directory\n",
    "\n",
    "if not datasetList:\n",
    "    print (\"No existing datasets found\")\n",
    "\n",
    "# Allow user to select dataset\n",
    "selectedDataset = widgets.Dropdown(\n",
    "    options = datasetList,\n",
    "    value= datasetList[0],\n",
    "    description=\"Dataset: \",\n",
    "    disabled=False,\n",
    ")\n",
    "\n",
    "# Allow user to upload own dataset\n",
    "training_upload_dataset = widgets.Button(\n",
    "    description='Upload dataset',\n",
    "    disabled = False\n",
    ")\n",
    "\n",
    "# Allow user to cancel upload\n",
    "training_upload_cancel = widgets.Button(\n",
    "    description='Cancel',\n",
    "    disabled = False\n",
    ")\n",
    "# Cancel upload functionality\n",
    "def upload_dataset_cancel(b):\n",
    "    with training_upload_output:\n",
    "        clear_output()\n",
    "# Link cancel button        \n",
    "training_upload_cancel.on_click(upload_dataset_cancel)\n",
    "\n",
    "# Output for dataset upload\n",
    "training_upload_output = widgets.Output()\n",
    "\n",
    "# Function to upload own dataset from computer\n",
    "def upload_dataset(file_val):\n",
    "    if not file_val:\n",
    "        print (\"No file uploaded\")\n",
    "\n",
    "    else:   \n",
    "        clear_output(wait=True)\n",
    "        uploaded_file = next(iter(file_val))\n",
    "        uploaded_filename = uploaded_file[\"name\"]\n",
    "        content = uploaded_file[\"content\"]\n",
    "        print(\"File name: \" + uploaded_filename)\n",
    "\n",
    "        try:\n",
    "            save_path = './data/dataset'\n",
    "            completeName = os.path.join(save_path, uploaded_filename) \n",
    "            with open(completeName, 'wb') as f: f.write(content)\n",
    "            print (uploaded_filename + \" uploaded to 'datasets' successfully!\")\n",
    "            \n",
    "            # resets\n",
    "            uploaded_file = ()\n",
    "            uploaded_filename = \"\"\n",
    "            content = \"\"\n",
    "        except:\n",
    "            print(sys.exc_info())\n",
    "            display(training_upload_cancel)\n",
    "\n",
    "# Upload functionality\n",
    "def show_upload(b):\n",
    "    with training_upload_output:\n",
    "        clear_output()\n",
    "        uploader = widgets.FileUpload(accept='.json',  # Currently only accepts .json\n",
    "                                      multiple=False,\n",
    "                                      description = \"Browse\",\n",
    "                                      _counter = 0\n",
    "        )\n",
    "        upload_button = widgets.Button(\n",
    "            description='Confirm Upload',\n",
    "            disabled = False\n",
    "        )\n",
    "\n",
    "        def on_button_clicked(b):\n",
    "            upload_dataset(uploader.value)\n",
    "\n",
    "        upload_button.on_click(on_button_clicked)\n",
    "        display(widgets.VBox([widgets.HBox([uploader, upload_button]),training_upload_cancel]))\n",
    "\n",
    "#Link the buttons\n",
    "training_upload_dataset.on_click(show_upload)\n",
    "\n",
    "# User Interface\n",
    "uploadBox = widgets.VBox([training_dataset_label,\n",
    "                          widgets.HBox([selectedDataset,training_upload_dataset]),\n",
    "                         training_upload_output])"
   ]
  },
  {
   "cell_type": "markdown",
   "metadata": {},
   "source": [
    "## Set the Training Parameters"
   ]
  },
  {
   "cell_type": "code",
   "execution_count": 16,
   "metadata": {
    "scrolled": true
   },
   "outputs": [
    {
     "name": "stdout",
     "output_type": "stream",
     "text": [
      "This Folder contains 2 file(s).\n"
     ]
    },
    {
     "data": {
      "application/vnd.jupyter.widget-view+json": {
       "model_id": "a9cd842ea30b4b38addae600bbbead21",
       "version_major": 2,
       "version_minor": 0
      },
      "text/plain": [
       "HBox(children=(VBox(children=(VBox(children=(Label(value='Select dataset or upload your own'), HBox(children=(…"
      ]
     },
     "metadata": {},
     "output_type": "display_data"
    }
   ],
   "source": [
    "# Things I need; UI = UserInput\n",
    "'''\n",
    "-load_model = ./models/PDAN_TSU_RGB [ui]\n",
    "-mode = RGB [hardcoded]\n",
    "'''\n",
    "\n",
    "class user_input:\n",
    "    def __init__(self):\n",
    "        self.model_name = None\n",
    "        self.batch_size = None\n",
    "        self.epoch = None\n",
    "        self.kernelsize = None\n",
    "        self.load_model = None\n",
    "        self.mode = 'RGB'\n",
    "        self.comp_info = 'TSU_CS_RGB_PDAN'\n",
    "        self.train = True\n",
    "        self.dataset = 'TSU'\n",
    "        self.num_channel = 512\n",
    "        self.APtype = 'map'\n",
    "        self.model = 'PDAN'\n",
    "        self.lr = 0.0002\n",
    "\n",
    "        \n",
    "modes = ['rgb','skeleton']\n",
    "# Allow user to select type of TSU evaluation\n",
    "training_video_mode = widgets.Dropdown(\n",
    "    options = modes,\n",
    "    value= modes[0],\n",
    "    description=\"Video Type: \",\n",
    "    disabled=False,\n",
    ")\n",
    "        \n",
    "\n",
    "# Specify a name for this new model using appropriate UI elements.\n",
    "desired_model_name = widgets.Text(\n",
    "    placeholder='Type something..',\n",
    "    description='Model Name:',\n",
    "    disabled=False\n",
    ")\n",
    "\n",
    "# Create list for use with user dataset selection\n",
    "datasetList = populateList(\"./TSU/models\",\"\") # populate list with files from dataset directory\n",
    "\n",
    "if not datasetList:\n",
    "    print (\"No existing datasets found\")\n",
    "\n",
    "# Allow user to load a pretrained model\n",
    "training_load_model = widgets.Dropdown(\n",
    "    options = datasetList,\n",
    "    value= datasetList[0],\n",
    "    description=\"ExistingModel: \",\n",
    "    disabled=False,\n",
    ")\n",
    "\n",
    "# Provide user with batch size\n",
    "user_batch_size = widgets.BoundedIntText(\n",
    "    min=1,\n",
    "    # max=1000, # to be defined and added as necessary\n",
    "    step=1,\n",
    "    description='Batch size:',\n",
    "    disabled=False\n",
    ")\n",
    "\n",
    "# Provide user with epoch selection\n",
    "epochs = widgets.BoundedIntText(\n",
    "    min=1,\n",
    "    # max=1000, # to be defined and added as necessary\n",
    "    step=1,\n",
    "    description='Epoch:',\n",
    "    disabled=False\n",
    ")\n",
    "\n",
    "# Provide user with kernel input\n",
    "kernel = widgets.BoundedIntText(\n",
    "    min=2,\n",
    "    # max=1000, # to be defined and added as necessary\n",
    "    step=1,\n",
    "    description='Kernel:',\n",
    "    disabled=False\n",
    ")\n",
    "\n",
    "# Confirm Button to provide user with virtual commit\n",
    "training_Confirm_Button = widgets.Button(\n",
    "    description='Confirm',\n",
    "    disabled = False\n",
    ")\n",
    "\n",
    "# Output to contain printout for ALL user input\n",
    "trainingParamOutput = widgets.Output()\n",
    "\n",
    "user = user_input() #Instantiate class here\n",
    "training_UserInput_label = widgets.Label(\"Current User Input\")\n",
    "# Functionality for user input\n",
    "def on_button_click(b):\n",
    "    with trainingParamOutput:\n",
    "        '''Store the user input into variables'''\n",
    "        userModelName = desired_model_name.value\n",
    "        userModelName = userModelName.replace(\" \", \"_\") # strip spaces\n",
    "        user.model_name = userModelName\n",
    "        user.batch_size = user_batch_size.value\n",
    "        user.epoch = epochs.value\n",
    "        user.kernelsize = kernel.value\n",
    "        user.load_model = training_load_model.value\n",
    "        user.mode = training_video_mode.value\n",
    "        '''Print out the user input'''\n",
    "        trainingParamOutput.clear_output() # Clear previous output\n",
    "        for item in vars(user): # Clear previous output\n",
    "            print(\"{}:{}\".format(item,vars(user)[item]))\n",
    "\n",
    "training_Confirm_Button.on_click(on_button_click)\n",
    "inputBox = widgets.HBox([widgets.VBox([uploadBox, training_video_mode,\n",
    "                         training_load_model, desired_model_name,\n",
    "                         user_batch_size, epochs, kernel,\n",
    "                         training_Confirm_Button]),widgets.VBox([training_UserInput_label,trainingParamOutput])])\n",
    "display(inputBox)"
   ]
  },
  {
   "cell_type": "markdown",
   "metadata": {},
   "source": [
    "## Run the training sequence, i.e., fit the model onto the dataset"
   ]
  },
  {
   "cell_type": "code",
   "execution_count": 17,
   "metadata": {
    "scrolled": false
   },
   "outputs": [
    {
     "name": "stdout",
     "output_type": "stream",
     "text": [
      "C:\\Users\\Joshua Leong\\Desktop\\3104\\ict3104-team03-2022\n"
     ]
    }
   ],
   "source": [
    "# os.chdir('../')\n",
    "print(os.getcwd())"
   ]
  },
  {
   "cell_type": "code",
   "execution_count": 19,
   "metadata": {
    "pycharm": {
     "name": "#%%\n"
    }
   },
   "outputs": [
    {
     "name": "stdout",
     "output_type": "stream",
     "text": [
      "Random_SEED!!!: 0\n",
      "PDAN\n",
      "batch_size: 1\n",
      "cuda_avail True\n",
      "RGB mode ./TSU/TSU_RGB_i3d_feat/RGB_i3d_16frames_64000_SSD\n"
     ]
    },
    {
     "name": "stderr",
     "output_type": "stream",
     "text": [
      "100%|██████████| 2/2 [00:00<00:00, 141.98it/s]\n",
      "100%|██████████| 2/2 [00:00<00:00, 500.93it/s]"
     ]
    },
    {
     "name": "stdout",
     "output_type": "stream",
     "text": [
      "you are processing PDAN\n"
     ]
    },
    {
     "name": "stderr",
     "output_type": "stream",
     "text": [
      "\n",
      "C:\\Users\\Joshua Leong\\Desktop\\3104\\ict3104-team03-2022\\TSU\\models.py:88: UserWarning: nn.init.kaiming_normal is now deprecated in favor of nn.init.kaiming_normal_.\n",
      "  init.kaiming_normal(self.key_conv.weight, mode='fan_out')\n",
      "C:\\Users\\Joshua Leong\\Desktop\\3104\\ict3104-team03-2022\\TSU\\models.py:89: UserWarning: nn.init.kaiming_normal is now deprecated in favor of nn.init.kaiming_normal_.\n",
      "  init.kaiming_normal(self.value_conv.weight, mode='fan_out')\n",
      "C:\\Users\\Joshua Leong\\Desktop\\3104\\ict3104-team03-2022\\TSU\\models.py:90: UserWarning: nn.init.kaiming_normal is now deprecated in favor of nn.init.kaiming_normal_.\n",
      "  init.kaiming_normal(self.query_conv.weight, mode='fan_out')\n",
      "C:\\Users\\Joshua Leong\\Desktop\\3104\\ict3104-team03-2022\\TSU\\models.py:91: UserWarning: nn.init.normal is now deprecated in favor of nn.init.normal_.\n",
      "  init.normal(self.rel_t, 0, 1)\n"
     ]
    },
    {
     "name": "stdout",
     "output_type": "stream",
     "text": [
      "loaded ./TSU/models/PDAN_TSU_RGB\n",
      "pytorch_total_params 5804083\n",
      "num_channel: 512 input_channnel: 1024 num_classes: 51\n",
      "0.0002\n",
      "Epoch 0/0\n",
      "----------\n"
     ]
    },
    {
     "name": "stderr",
     "output_type": "stream",
     "text": [
      "C:\\Users\\Joshua Leong\\Desktop\\3104\\ict3104-team03-2022\\venv\\lib\\site-packages\\torch\\nn\\_reduction.py:42: UserWarning: size_average and reduce args will be deprecated, please use reduction='none' instead.\n",
      "  warnings.warn(warning.format(ret))\n",
      "C:\\Users\\Joshua Leong\\Desktop\\3104\\ict3104-team03-2022\\venv\\lib\\site-packages\\torch\\nn\\functional.py:1960: UserWarning: nn.functional.sigmoid is deprecated. Use torch.sigmoid instead.\n",
      "  warnings.warn(\"nn.functional.sigmoid is deprecated. Use torch.sigmoid instead.\")\n",
      "C:\\Users\\Joshua Leong\\Desktop\\3104\\ict3104-team03-2022\\venv\\lib\\site-packages\\torch\\nn\\_reduction.py:42: UserWarning: size_average and reduce args will be deprecated, please use reduction='sum' instead.\n",
      "  warnings.warn(warning.format(ret))\n",
      "C:\\Users\\Joshua Leong\\Desktop\\3104\\ict3104-team03-2022\\TSU\\apmeter.py:108: UserWarning: torch.range is deprecated and will be removed in a future release because its behavior is inconsistent with Python's range builtin. Instead, use torch.arange, which produces values in [start, end).\n",
      "  rg = torch.range(1, self.scores.size(0)).float()\n",
      "C:\\Users\\Joshua Leong\\Desktop\\3104\\ict3104-team03-2022\\TSU\\apmeter.py:137: UserWarning: indexing with dtype torch.uint8 is now deprecated, please use a dtype torch.bool instead. (Triggered internally at  ..\\aten\\src\\ATen/native/IndexingUtils.h:28.)\n",
      "  ap[k] = precision[truth.byte()].sum() / max(truth.sum(), 1)\n"
     ]
    },
    {
     "name": "stdout",
     "output_type": "stream",
     "text": [
      "train-map: tensor(12.7663)\n",
      "val-map: tensor(53.4874)\n",
      "tensor([ 0.0000, 56.6385,  0.0000,  0.0000,  0.0000,  0.0000,  0.0000, 50.2425,\n",
      "         0.0000,  9.3081, 24.1002,  0.0000,  0.0000,  0.0000,  0.0000,  0.0000,\n",
      "         0.0000,  0.0000,  0.0000, 99.1754,  0.6912,  0.0000,  0.0000,  0.0000,\n",
      "         0.0000, 53.8095,  0.0000, 97.1353, 90.2857,  0.0000,  0.0000,  0.0000,\n",
      "         0.0000,  0.0000,  0.0000,  0.0000,  0.0000,  0.0000,  0.0000,  0.0000,\n",
      "         0.0000,  0.0000,  0.0000,  0.0000,  0.0000,  0.0000,  0.0000,  0.0000,\n",
      "         0.0000,  0.0000,  0.0000])\n",
      "save here: ./TSU/PDAN/weight_epoch_0.0002_0\n",
      "finished\n"
     ]
    }
   ],
   "source": [
    "# Some last minute code. My brain is really not functioning atm\n",
    "split_setting = \"\"\n",
    "if \"CS\" in selectedDataset.value:\n",
    "    split_setting = \"CS\"\n",
    "elif \"CV\" in selectedDataset.value:\n",
    "    split_setting = \"CV\"\n",
    "\n",
    "training_model = './TSU/models/'+user.load_model\n",
    "%run ./TSU/train_old.py -batch_size $user.batch_size -model_name $user.model_name -epoch $user.epoch -kernelsize $user.kernelsize -load_model $training_model -mode $user.mode -comp_info $user.comp_info -train $user.train -dataset $user.dataset -num_channel $user.num_channel -APtype $user.APtype -model $user.model -lr $user.lr\n",
    "\n",
    "# -mode $user.mode\n",
    "# -train $user.train\n",
    "# -comp_info $user.comp_info\n",
    "# -dataset $user.dataset ???\n",
    "# -lr $user.lr\n",
    "# -epoch $user.epoch\n",
    "# -model $user.model\n",
    "# -APtype $user.APtype\n",
    "# -load_model $user.load_model ???\n",
    "# -num_channel $user.num_channel\n",
    "# -batch_size $user.batch_size\n",
    "# -kernelsize $user.kernelsize\n",
    "# -model_name $user.model_name"
   ]
  },
  {
   "cell_type": "markdown",
   "metadata": {},
   "source": [
    "## Visuals for progress of training"
   ]
  },
  {
   "cell_type": "code",
   "execution_count": null,
   "metadata": {},
   "outputs": [],
   "source": [
    "# See some visual elements to indicate the progress of the training in the notebook"
   ]
  },
  {
   "cell_type": "markdown",
   "metadata": {},
   "source": [
    "## After training is complete, the trained model should be added to the list of pre-trained models that can be chosen in R3"
   ]
  },
  {
   "cell_type": "code",
   "execution_count": null,
   "metadata": {},
   "outputs": [],
   "source": [
    "# After training is complete, the trained model should be added to the list of pre-trained models that can be chosen in R3"
   ]
  },
  {
   "cell_type": "markdown",
   "metadata": {},
   "source": [
    "# 4. Testing Section"
   ]
  },
  {
   "cell_type": "markdown",
   "metadata": {},
   "source": [
    "## Choose a dataset subfolder, using appropriate UI elements, from the data folder to use for testing"
   ]
  },
  {
   "cell_type": "code",
   "execution_count": null,
   "metadata": {},
   "outputs": [],
   "source": [
    "# Choose a dataset subfolder, using appropriate UI elements, from the data folder to use for testing\n",
    "\n",
    "# replicated from section 3\n",
    "existingBox = widgets.VBox([label_1, selectedDataset])\n",
    "newBox = widgets.VBox([label_2, selectown_button])\n",
    "selectBox = widgets.HBox([existingBox, newBox])\n",
    "display(selectBox)\n"
   ]
  },
  {
   "cell_type": "markdown",
   "metadata": {},
   "source": [
    "## Load a pretrained model using an appropriate UI component"
   ]
  },
  {
   "cell_type": "code",
   "execution_count": null,
   "metadata": {},
   "outputs": [],
   "source": [
    "# Load a pretrained model using an appropriate UI component\n",
    "\n",
    "# replicated from section 2\n",
    "selectModel\n",
    "# print(selectModel.value)"
   ]
  },
  {
   "cell_type": "markdown",
   "metadata": {},
   "source": [
    "## Run the testing sequence"
   ]
  },
  {
   "cell_type": "code",
   "execution_count": null,
   "metadata": {},
   "outputs": [],
   "source": [
    "# Run the testing sequence, i.e., perform inference on each data sample and accumulate some statistics\n",
    "# (again check out the train.py file)"
   ]
  },
  {
   "cell_type": "markdown",
   "metadata": {},
   "source": [
    "## See some visual elements to indicate the progress of testing in the notebook"
   ]
  },
  {
   "cell_type": "code",
   "execution_count": null,
   "metadata": {},
   "outputs": [],
   "source": [
    "# •\tView some results \n",
    "# (e.g., Average Precision per activity class and mean Average Precision) \n",
    "# that allow for an assessment of how well the model performed"
   ]
  },
  {
   "cell_type": "markdown",
   "metadata": {},
   "source": [
    "## Save the results to a results folder in the repo"
   ]
  },
  {
   "cell_type": "code",
   "execution_count": null,
   "metadata": {},
   "outputs": [],
   "source": [
    "# Save the results to a results folder in the repo"
   ]
  },
  {
   "cell_type": "markdown",
   "metadata": {},
   "source": [
    "# 5. New Pipeline (NVIDIA STEP)"
   ]
  },
  {
   "cell_type": "code",
   "execution_count": null,
   "metadata": {},
   "outputs": [],
   "source": [
    "## STEP is just one other HOI project we suggest, but you are free to use any others. A good resource may be https://paperswithcode.com"
   ]
  }
 ],
 "metadata": {
  "kernelspec": {
   "display_name": "Python 3 (ipykernel)",
   "language": "python",
   "name": "python3"
  },
  "language_info": {
   "codemirror_mode": {
    "name": "ipython",
    "version": 3
   },
   "file_extension": ".py",
   "mimetype": "text/x-python",
   "name": "python",
   "nbconvert_exporter": "python",
   "pygments_lexer": "ipython3",
   "version": "3.10.6"
  },
  "vscode": {
   "interpreter": {
    "hash": "6a57af3429fe39f1db95ae52500f0dc20b0d5b033a19c06462446e07082bc71c"
   }
  }
 },
 "nbformat": 4,
 "nbformat_minor": 1
}