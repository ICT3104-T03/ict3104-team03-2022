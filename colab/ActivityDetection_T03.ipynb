{
  "nbformat": 4,
  "nbformat_minor": 0,
  "metadata": {
    "colab": {
      "provenance": [],
      "collapsed_sections": [],
      "include_colab_link": true
    },
    "kernelspec": {
      "name": "python3",
      "display_name": "Python 3"
    },
    "language_info": {
      "name": "python"
    }
  },
  "cells": [
    {
      "cell_type": "markdown",
      "metadata": {
        "id": "view-in-github",
        "colab_type": "text"
      },
      "source": [
        "<a href=\"https://colab.research.google.com/github/ICT3104-T03/ict3104-team03-2022/blob/lucas/colab/ActivityDetection_T03.ipynb\" target=\"_parent\"><img src=\"https://colab.research.google.com/assets/colab-badge.svg\" alt=\"Open In Colab\"/></a>"
      ]
    },
    {
      "cell_type": "code",
      "execution_count": 1,
      "metadata": {
        "id": "IT70WlPfScrd",
        "outputId": "c6a92bb0-2fb6-491a-82ef-c110eaf29675",
        "colab": {
          "base_uri": "https://localhost:8080/"
        }
      },
      "outputs": [
        {
          "output_type": "stream",
          "name": "stdout",
          "text": [
            "hi im lucas\n"
          ]
        }
      ],
      "source": [
        "print(\"hi im lucas\")"
      ]
    },
    {
      "cell_type": "markdown",
      "source": [
        "hi im angelene"
      ],
      "metadata": {
        "id": "YDZDiTpwfpzR"
      }
    },
    {
      "cell_type": "markdown",
      "source": [
        "testing ict3104\n",
        "henry was here"
      ],
      "metadata": {
        "id": "13-hnBXDdbAF"
      }
    }
  ]
}