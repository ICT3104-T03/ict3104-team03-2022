{
 "cells": [
  {
   "cell_type": "code",
   "execution_count": 2,
   "id": "07c21d27",
   "metadata": {},
   "outputs": [],
   "source": [
    "import json\n",
    "import os.path\n",
    "from sklearn.utils import shuffle\n",
    "\n",
    "# file = \"smarthome_CS_51_old.json\"\n",
    "# first value is user input number of testing they want extract\n",
    "# second valee is user input number of training they wan extract\n",
    "# third value is user input what file they want to extract the data from\n",
    "# fourth value is user input what file they want name their new json file\n",
    "def get_jsonfile(userinputtesting,userinputtraining,userinputfile,userfilenaming,userpathfilesave):\n",
    "    file = userinputfile\n",
    "    # user input both testing and training\n",
    "    user_selecttesting = userinputtesting\n",
    "    user_selecttraining = userinputtraining\n",
    "    user_pathfilesave = userpathfilesave\n",
    "#    user select file\n",
    "    f = open(file)\n",
    "    data = json.load(f)\n",
    "    testing = []\n",
    "    training = []\n",
    "    final_training = []\n",
    "    final_testing = []\n",
    "    # Run file to get data name in new array where it is testing or training\n",
    "    for info in data:\n",
    "        if data[info]['subset'] == \"testing\":\n",
    "            testing.append(info)\n",
    "        else:\n",
    "            training.append(info)\n",
    "    # randomizing the order of array\n",
    "    testing = shuffle(testing)\n",
    "    training = shuffle(training)\n",
    "    # saving the whole data into array for both training and testing\n",
    "    for i in range(user_selecttesting):\n",
    "        for datatest in data:\n",
    "            if datatest == testing[i]:\n",
    "                result1 = (datatest,data[datatest])\n",
    "                final_testing.append(result1)\n",
    "    for i in range(user_selecttraining):\n",
    "        for datatest in data:\n",
    "            if datatest == training[i]:\n",
    "                result = (datatest,data[datatest])\n",
    "                final_training.append(result)\n",
    "    # save into a new json file\n",
    "    with open(userfilenaming+'.json', mode='w+') as f:\n",
    "        json.dump(final_testing, f, indent=2)\n",
    "        json.dump(final_training, f, indent=2)\n",
    "    completeName = os.path.join(user_pathfilesave, userfilenaming+'.json')"
   ]
  },
  {
   "cell_type": "code",
   "execution_count": 7,
   "id": "9a43e282",
   "metadata": {},
   "outputs": [],
   "source": [
    "file = \"smarthome_CS_51_old.json\"\n",
    "test = \"hello\"\n",
    "path = \"C:/Users/65912/Documents/GitHub/ict3104-team03-2022/TSU\"\n",
    "get_jsonfile(2,0,file,test,path)"
   ]
  },
  {
   "cell_type": "code",
   "execution_count": null,
   "id": "67bff7f3",
   "metadata": {},
   "outputs": [],
   "source": []
  },
  {
   "cell_type": "code",
   "execution_count": null,
   "id": "e2f3dfd4",
   "metadata": {},
   "outputs": [],
   "source": []
  },
  {
   "cell_type": "code",
   "execution_count": null,
   "id": "4b5b1042",
   "metadata": {},
   "outputs": [],
   "source": []
  }
 ],
 "metadata": {
  "kernelspec": {
   "display_name": "Python 3 (ipykernel)",
   "language": "python",
   "name": "python3"
  },
  "language_info": {
   "codemirror_mode": {
    "name": "ipython",
    "version": 3
   },
   "file_extension": ".py",
   "mimetype": "text/x-python",
   "name": "python",
   "nbconvert_exporter": "python",
   "pygments_lexer": "ipython3",
   "version": "3.9.12"
  },
  "vscode": {
   "interpreter": {
    "hash": "aab5242d98d00ac8428201f2ef734d50285002c6bec0a1332260b777e745de32"
   }
  }
 },
 "nbformat": 4,
 "nbformat_minor": 5
}
